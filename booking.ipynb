{
 "cells": [
  {
   "cell_type": "markdown",
   "metadata": {},
   "source": [
    "# Libraries 📚"
   ]
  },
  {
   "cell_type": "code",
   "execution_count": 1,
   "metadata": {},
   "outputs": [],
   "source": [
    "import requests\n",
    "import pandas as pd\n",
    "import json \n",
    "import boto3 as bt\n",
    "import time\n",
    "\n",
    "import plotly.express as px\n",
    "import matplotlib.pyplot as plt\n",
    "import seaborn as sns"
   ]
  },
  {
   "cell_type": "code",
   "execution_count": 3,
   "metadata": {},
   "outputs": [],
   "source": [
    "booking = pd.read_json(\"hotel_description_full.json\", encoding=\"latin1\")"
   ]
  },
  {
   "cell_type": "code",
   "execution_count": null,
   "metadata": {},
   "outputs": [],
   "source": [
    "booking.head(20)"
   ]
  },
  {
   "cell_type": "code",
   "execution_count": 5,
   "metadata": {},
   "outputs": [
    {
     "data": {
      "text/html": [
       "<div>\n",
       "<style scoped>\n",
       "    .dataframe tbody tr th:only-of-type {\n",
       "        vertical-align: middle;\n",
       "    }\n",
       "\n",
       "    .dataframe tbody tr th {\n",
       "        vertical-align: top;\n",
       "    }\n",
       "\n",
       "    .dataframe thead th {\n",
       "        text-align: right;\n",
       "    }\n",
       "</style>\n",
       "<table border=\"1\" class=\"dataframe\">\n",
       "  <thead>\n",
       "    <tr style=\"text-align: right;\">\n",
       "      <th></th>\n",
       "      <th>hotel_name</th>\n",
       "      <th>hotel_url</th>\n",
       "    </tr>\n",
       "  </thead>\n",
       "  <tbody>\n",
       "    <tr>\n",
       "      <th>0</th>\n",
       "      <td>Le Comby - wifi, au calme</td>\n",
       "      <td>https://www.booking.com/hotel/fr/le-comby-wifi...</td>\n",
       "    </tr>\n",
       "    <tr>\n",
       "      <th>1</th>\n",
       "      <td>Le Pop : beau T2 entièrement rénové en hyper-c...</td>\n",
       "      <td>https://www.booking.com/hotel/fr/le-pop-beau-t...</td>\n",
       "    </tr>\n",
       "    <tr>\n",
       "      <th>2</th>\n",
       "      <td>Studio climatisé hyper-centre - 300m Basilique...</td>\n",
       "      <td>https://www.booking.com/hotel/fr/studio-hyper-...</td>\n",
       "    </tr>\n",
       "    <tr>\n",
       "      <th>3</th>\n",
       "      <td>Chic et calme</td>\n",
       "      <td>https://www.booking.com/hotel/fr/chic-et-calme...</td>\n",
       "    </tr>\n",
       "    <tr>\n",
       "      <th>4</th>\n",
       "      <td>T3 équipé et fonctionnel 3 min du métro</td>\n",
       "      <td>https://www.booking.com/hotel/fr/t3-equipe-et-...</td>\n",
       "    </tr>\n",
       "    <tr>\n",
       "      <th>5</th>\n",
       "      <td>Villa SESCA - Piscine grande terrasse</td>\n",
       "      <td>https://www.booking.com/hotel/fr/villa-sesca-p...</td>\n",
       "    </tr>\n",
       "    <tr>\n",
       "      <th>6</th>\n",
       "      <td>Harmonie Bleue - central, au calme, wifi</td>\n",
       "      <td>https://www.booking.com/hotel/fr/harmonie-bleu...</td>\n",
       "    </tr>\n",
       "    <tr>\n",
       "      <th>7</th>\n",
       "      <td>Le Printemps * Bel appartement climatisé * Hyp...</td>\n",
       "      <td>https://www.booking.com/hotel/fr/le-printemps-...</td>\n",
       "    </tr>\n",
       "    <tr>\n",
       "      <th>8</th>\n",
       "      <td>Le Tower au coeur de Toulouse avec Parking et vue</td>\n",
       "      <td>https://www.booking.com/hotel/fr/le-tower-au-c...</td>\n",
       "    </tr>\n",
       "    <tr>\n",
       "      <th>9</th>\n",
       "      <td>Studio des Carmes</td>\n",
       "      <td>https://www.booking.com/hotel/fr/studio-des-ca...</td>\n",
       "    </tr>\n",
       "    <tr>\n",
       "      <th>10</th>\n",
       "      <td>Le Champs Elysées - à 2 pas de la gare</td>\n",
       "      <td>https://www.booking.com/hotel/fr/le-champs-ely...</td>\n",
       "    </tr>\n",
       "    <tr>\n",
       "      <th>11</th>\n",
       "      <td>Sevenline Aparthotel Purpan Toulouse</td>\n",
       "      <td>https://www.booking.com/hotel/fr/sevenline-apa...</td>\n",
       "    </tr>\n",
       "    <tr>\n",
       "      <th>12</th>\n",
       "      <td>Hypercentre Toulouse 6 joli appartement climat...</td>\n",
       "      <td>https://www.booking.com/hotel/fr/hypercentre-t...</td>\n",
       "    </tr>\n",
       "    <tr>\n",
       "      <th>13</th>\n",
       "      <td>Faubourg - Studio Climatise proche Centre-ville</td>\n",
       "      <td>https://www.booking.com/hotel/fr/faubourg-stud...</td>\n",
       "    </tr>\n",
       "    <tr>\n",
       "      <th>14</th>\n",
       "      <td>The Social Hub Toulouse</td>\n",
       "      <td>https://www.booking.com/hotel/fr/the-social-hu...</td>\n",
       "    </tr>\n",
       "    <tr>\n",
       "      <th>15</th>\n",
       "      <td>Facile, Lumineux, Parking, Metro, proche du Ce...</td>\n",
       "      <td>https://www.booking.com/hotel/fr/facile-lumine...</td>\n",
       "    </tr>\n",
       "    <tr>\n",
       "      <th>16</th>\n",
       "      <td>Le Sage</td>\n",
       "      <td>https://www.booking.com/hotel/fr/le-sage.fr.ht...</td>\n",
       "    </tr>\n",
       "    <tr>\n",
       "      <th>17</th>\n",
       "      <td>Les Puits Clos : magnifique T2 sous les toits</td>\n",
       "      <td>https://www.booking.com/hotel/fr/les-puits-clo...</td>\n",
       "    </tr>\n",
       "    <tr>\n",
       "      <th>18</th>\n",
       "      <td>Sky View</td>\n",
       "      <td>https://www.booking.com/hotel/fr/sky-view-toul...</td>\n",
       "    </tr>\n",
       "    <tr>\n",
       "      <th>19</th>\n",
       "      <td>Urban Loft</td>\n",
       "      <td>https://www.booking.com/hotel/fr/urban-loft-to...</td>\n",
       "    </tr>\n",
       "  </tbody>\n",
       "</table>\n",
       "</div>"
      ],
      "text/plain": [
       "                                           hotel_name  \\\n",
       "0                           Le Comby - wifi, au calme   \n",
       "1   Le Pop : beau T2 entièrement rénové en hyper-c...   \n",
       "2   Studio climatisé hyper-centre - 300m Basilique...   \n",
       "3                                       Chic et calme   \n",
       "4             T3 équipé et fonctionnel 3 min du métro   \n",
       "5               Villa SESCA - Piscine grande terrasse   \n",
       "6            Harmonie Bleue - central, au calme, wifi   \n",
       "7   Le Printemps * Bel appartement climatisé * Hyp...   \n",
       "8   Le Tower au coeur de Toulouse avec Parking et vue   \n",
       "9                                   Studio des Carmes   \n",
       "10             Le Champs Elysées - à 2 pas de la gare   \n",
       "11               Sevenline Aparthotel Purpan Toulouse   \n",
       "12  Hypercentre Toulouse 6 joli appartement climat...   \n",
       "13    Faubourg - Studio Climatise proche Centre-ville   \n",
       "14                            The Social Hub Toulouse   \n",
       "15  Facile, Lumineux, Parking, Metro, proche du Ce...   \n",
       "16                                            Le Sage   \n",
       "17      Les Puits Clos : magnifique T2 sous les toits   \n",
       "18                                           Sky View   \n",
       "19                                         Urban Loft   \n",
       "\n",
       "                                            hotel_url  \n",
       "0   https://www.booking.com/hotel/fr/le-comby-wifi...  \n",
       "1   https://www.booking.com/hotel/fr/le-pop-beau-t...  \n",
       "2   https://www.booking.com/hotel/fr/studio-hyper-...  \n",
       "3   https://www.booking.com/hotel/fr/chic-et-calme...  \n",
       "4   https://www.booking.com/hotel/fr/t3-equipe-et-...  \n",
       "5   https://www.booking.com/hotel/fr/villa-sesca-p...  \n",
       "6   https://www.booking.com/hotel/fr/harmonie-bleu...  \n",
       "7   https://www.booking.com/hotel/fr/le-printemps-...  \n",
       "8   https://www.booking.com/hotel/fr/le-tower-au-c...  \n",
       "9   https://www.booking.com/hotel/fr/studio-des-ca...  \n",
       "10  https://www.booking.com/hotel/fr/le-champs-ely...  \n",
       "11  https://www.booking.com/hotel/fr/sevenline-apa...  \n",
       "12  https://www.booking.com/hotel/fr/hypercentre-t...  \n",
       "13  https://www.booking.com/hotel/fr/faubourg-stud...  \n",
       "14  https://www.booking.com/hotel/fr/the-social-hu...  \n",
       "15  https://www.booking.com/hotel/fr/facile-lumine...  \n",
       "16  https://www.booking.com/hotel/fr/le-sage.fr.ht...  \n",
       "17  https://www.booking.com/hotel/fr/les-puits-clo...  \n",
       "18  https://www.booking.com/hotel/fr/sky-view-toul...  \n",
       "19  https://www.booking.com/hotel/fr/urban-loft-to...  "
      ]
     },
     "execution_count": 5,
     "metadata": {},
     "output_type": "execute_result"
    }
   ],
   "source": [
    "booking_url = pd.read_json(\"hotel_url.json\", encoding=\"latin1\")\n",
    "booking_url.head(20)"
   ]
  },
  {
   "cell_type": "code",
   "execution_count": 8,
   "metadata": {},
   "outputs": [
    {
     "data": {
      "text/html": [
       "<div>\n",
       "<style scoped>\n",
       "    .dataframe tbody tr th:only-of-type {\n",
       "        vertical-align: middle;\n",
       "    }\n",
       "\n",
       "    .dataframe tbody tr th {\n",
       "        vertical-align: top;\n",
       "    }\n",
       "\n",
       "    .dataframe thead th {\n",
       "        text-align: right;\n",
       "    }\n",
       "</style>\n",
       "<table border=\"1\" class=\"dataframe\">\n",
       "  <thead>\n",
       "    <tr style=\"text-align: right;\">\n",
       "      <th></th>\n",
       "      <th>hotel_name</th>\n",
       "      <th>hotel_url</th>\n",
       "      <th>description</th>\n",
       "      <th>address</th>\n",
       "      <th>rating</th>\n",
       "    </tr>\n",
       "  </thead>\n",
       "  <tbody>\n",
       "    <tr>\n",
       "      <th>680</th>\n",
       "      <td>Domaine du Haut-Koenigsbourg</td>\n",
       "      <td>https://www.booking.com/hotel/fr/les-chambres-...</td>\n",
       "      <td>Le Domaine du Haut-Koenigsbourg est situé à Or...</td>\n",
       "      <td>Route du Haut-Koenigsbourg, 67600 Orschwiller,...</td>\n",
       "      <td>8,5</td>\n",
       "    </tr>\n",
       "    <tr>\n",
       "      <th>681</th>\n",
       "      <td>Gîte Sonnenberg</td>\n",
       "      <td>https://www.booking.com/hotel/fr/ga-r-te-sonne...</td>\n",
       "      <td>Le Gîte Sonnenberg est situé à environ 9 km de...</td>\n",
       "      <td>1 route du Vin, 68770 Ammerschwihr, France</td>\n",
       "      <td>8,3</td>\n",
       "    </tr>\n",
       "    <tr>\n",
       "      <th>682</th>\n",
       "      <td>Gîtes Thirion</td>\n",
       "      <td>https://www.booking.com/hotel/fr/gites-thirion...</td>\n",
       "      <td>L'établissement Gîtes Thirion est situé à Sain...</td>\n",
       "      <td>71 Route du Vin, 68590 Saint-Hippolyte, France</td>\n",
       "      <td>8,8</td>\n",
       "    </tr>\n",
       "    <tr>\n",
       "      <th>683</th>\n",
       "      <td>Gites &amp; Camping on the Route des Vins</td>\n",
       "      <td>https://www.booking.com/hotel/fr/gites-amp-cam...</td>\n",
       "      <td>Situé à Bergheim, à 17 km de Colmar, le Gites ...</td>\n",
       "      <td>32 rue des romains, 68750 Bergheim, France</td>\n",
       "      <td>8,5</td>\n",
       "    </tr>\n",
       "    <tr>\n",
       "      <th>684</th>\n",
       "      <td>Hôtel De La Couronne</td>\n",
       "      <td>https://www.booking.com/hotel/fr/de-la-couronn...</td>\n",
       "      <td>L’Hôtel De La Couronne vous accueille dans le ...</td>\n",
       "      <td>5 rue de la Couronne, 68340 Riquewihr, France</td>\n",
       "      <td>8,4</td>\n",
       "    </tr>\n",
       "    <tr>\n",
       "      <th>685</th>\n",
       "      <td>Gîte Saint Ludan</td>\n",
       "      <td>https://www.booking.com/hotel/fr/gite-saint-lu...</td>\n",
       "      <td>Le Gîte Saint Ludan est situé à Rombach-le-Fra...</td>\n",
       "      <td>13 Lieu-Dit la Hingrie, 68660 Rombach-le-Franc...</td>\n",
       "      <td>8,6</td>\n",
       "    </tr>\n",
       "    <tr>\n",
       "      <th>686</th>\n",
       "      <td>Gîtes Marschall Jean-Pierre</td>\n",
       "      <td>https://www.booking.com/hotel/fr/gites-marscha...</td>\n",
       "      <td>L'établissement Gîtes Marschall Jean-Pierre es...</td>\n",
       "      <td>16 A Rue des Tulipes, 68980 Beblenheim, France</td>\n",
       "      <td>9,1</td>\n",
       "    </tr>\n",
       "    <tr>\n",
       "      <th>687</th>\n",
       "      <td>Gîte aux deux Hameaux</td>\n",
       "      <td>https://www.booking.com/hotel/fr/gite-aux-deux...</td>\n",
       "      <td>Offrant une vue sur son jardin, le Gîte aux de...</td>\n",
       "      <td>8 Chemin de l'Église, 67220 Saint-Pierre-Bois,...</td>\n",
       "      <td>9,4</td>\n",
       "    </tr>\n",
       "    <tr>\n",
       "      <th>688</th>\n",
       "      <td>Hotel Au Parc des Cigognes</td>\n",
       "      <td>https://www.booking.com/hotel/fr/au-parc-des-c...</td>\n",
       "      <td>Installé à Kintzheim, à 200 mètres du parc de ...</td>\n",
       "      <td>Route de Selestat, 67600 Kintzheim, France</td>\n",
       "      <td>8,3</td>\n",
       "    </tr>\n",
       "    <tr>\n",
       "      <th>689</th>\n",
       "      <td>Best Western Hotel &amp; SPA Le Schoenenbourg - Ri...</td>\n",
       "      <td>https://www.booking.com/hotel/fr/le-schoenenbo...</td>\n",
       "      <td>Entouré de vignobles, le Best Western Hotel Le...</td>\n",
       "      <td>2A, rue de la piscine, 68340 Riquewihr, France</td>\n",
       "      <td>8,7</td>\n",
       "    </tr>\n",
       "    <tr>\n",
       "      <th>690</th>\n",
       "      <td>Gîte \"Au Vigneron\"</td>\n",
       "      <td>https://www.booking.com/hotel/fr/gite-au-vigne...</td>\n",
       "      <td>Situé à Triembach-au-Val, à 20 km du château d...</td>\n",
       "      <td>3 Rue Saint-Gilles, 67220 Triembach-au-Val, Fr...</td>\n",
       "      <td>8,8</td>\n",
       "    </tr>\n",
       "    <tr>\n",
       "      <th>691</th>\n",
       "      <td>La Maison Jaune</td>\n",
       "      <td>https://www.booking.com/hotel/fr/la-maison-jau...</td>\n",
       "      <td>Bénéficiant d'une terrasse et d'une vue sur le...</td>\n",
       "      <td>12 Rue du Four, 68770 Ammerschwihr, France</td>\n",
       "      <td>8,3</td>\n",
       "    </tr>\n",
       "    <tr>\n",
       "      <th>692</th>\n",
       "      <td>Les Bords de L´Ill</td>\n",
       "      <td>https://www.booking.com/hotel/fr/les-bords-de-...</td>\n",
       "      <td>Offrant une vue sur son jardin, l'établissemen...</td>\n",
       "      <td>3, Rue De La Fecht, 68970 Illhaeusern, France</td>\n",
       "      <td>8,9</td>\n",
       "    </tr>\n",
       "    <tr>\n",
       "      <th>693</th>\n",
       "      <td>Meublé mathilde</td>\n",
       "      <td>https://www.booking.com/hotel/fr/meuble-mathil...</td>\n",
       "      <td>Doté d'un jardin, le Meublé mathilde est situé...</td>\n",
       "      <td>6 Rue du ChÃ¢teau, 67600 Orschwiller, France</td>\n",
       "      <td>8,7</td>\n",
       "    </tr>\n",
       "    <tr>\n",
       "      <th>694</th>\n",
       "      <td>Gites-Weyer n°1</td>\n",
       "      <td>https://www.booking.com/hotel/fr/gites-weyer-n...</td>\n",
       "      <td>Offrant une vue sur le jardin, le Gites-Weyer ...</td>\n",
       "      <td>7 Rue de la Croix, 68750 Bergheim, France</td>\n",
       "      <td>8,8</td>\n",
       "    </tr>\n",
       "    <tr>\n",
       "      <th>695</th>\n",
       "      <td>HECO Colmar Nord - ex Première Classe</td>\n",
       "      <td>https://www.booking.com/hotel/fr/premiere-clas...</td>\n",
       "      <td>Le Première Classe Colmar Nord - Houssen est s...</td>\n",
       "      <td>Rue Mariafeld - ZA Rosenkranz, 68125 Houssen, ...</td>\n",
       "      <td>5,2</td>\n",
       "    </tr>\n",
       "    <tr>\n",
       "      <th>696</th>\n",
       "      <td>Hotel à l'Oriel</td>\n",
       "      <td>https://www.booking.com/hotel/fr/a-l-oriel.fr....</td>\n",
       "      <td>L'Oriel est situé en plein cœur de Riquewihr, ...</td>\n",
       "      <td>3, Rue Des Écuries Seigneuriales, 68340 Riquew...</td>\n",
       "      <td>8,3</td>\n",
       "    </tr>\n",
       "    <tr>\n",
       "      <th>697</th>\n",
       "      <td>Schriner Hüss - Chambres d'hôtes &amp; Gîtes</td>\n",
       "      <td>https://www.booking.com/hotel/fr/residence-ann...</td>\n",
       "      <td>Doté d’une piscine extérieure ouverte en saiso...</td>\n",
       "      <td>28 Rue Jean Macé, 68980 Beblenheim, France</td>\n",
       "      <td>8,5</td>\n",
       "    </tr>\n",
       "    <tr>\n",
       "      <th>698</th>\n",
       "      <td>Chez Filippa</td>\n",
       "      <td>https://www.booking.com/hotel/fr/chez-filippa....</td>\n",
       "      <td>Situé à Ostheim, à seulement 10 km de la Maiso...</td>\n",
       "      <td>9 Rue d'Epinay, 68150 Ostheim, France</td>\n",
       "      <td>9,4</td>\n",
       "    </tr>\n",
       "    <tr>\n",
       "      <th>699</th>\n",
       "      <td>O P'tit Bawala</td>\n",
       "      <td>https://www.booking.com/hotel/fr/o-p-tit-bawal...</td>\n",
       "      <td>Offrant une vue sur la cour intérieure, l'O P'...</td>\n",
       "      <td>7 Rue Jean Macé, 68980 Beblenheim, France</td>\n",
       "      <td>9,2</td>\n",
       "    </tr>\n",
       "  </tbody>\n",
       "</table>\n",
       "</div>"
      ],
      "text/plain": [
       "                                            hotel_name  \\\n",
       "680                       Domaine du Haut-Koenigsbourg   \n",
       "681                                    Gîte Sonnenberg   \n",
       "682                                      Gîtes Thirion   \n",
       "683              Gites & Camping on the Route des Vins   \n",
       "684                               Hôtel De La Couronne   \n",
       "685                                   Gîte Saint Ludan   \n",
       "686                        Gîtes Marschall Jean-Pierre   \n",
       "687                              Gîte aux deux Hameaux   \n",
       "688                         Hotel Au Parc des Cigognes   \n",
       "689  Best Western Hotel & SPA Le Schoenenbourg - Ri...   \n",
       "690                                 Gîte \"Au Vigneron\"   \n",
       "691                                    La Maison Jaune   \n",
       "692                                 Les Bords de L´Ill   \n",
       "693                                    Meublé mathilde   \n",
       "694                                    Gites-Weyer n°1   \n",
       "695              HECO Colmar Nord - ex Première Classe   \n",
       "696                                    Hotel à l'Oriel   \n",
       "697           Schriner Hüss - Chambres d'hôtes & Gîtes   \n",
       "698                                       Chez Filippa   \n",
       "699                                     O P'tit Bawala   \n",
       "\n",
       "                                             hotel_url  \\\n",
       "680  https://www.booking.com/hotel/fr/les-chambres-...   \n",
       "681  https://www.booking.com/hotel/fr/ga-r-te-sonne...   \n",
       "682  https://www.booking.com/hotel/fr/gites-thirion...   \n",
       "683  https://www.booking.com/hotel/fr/gites-amp-cam...   \n",
       "684  https://www.booking.com/hotel/fr/de-la-couronn...   \n",
       "685  https://www.booking.com/hotel/fr/gite-saint-lu...   \n",
       "686  https://www.booking.com/hotel/fr/gites-marscha...   \n",
       "687  https://www.booking.com/hotel/fr/gite-aux-deux...   \n",
       "688  https://www.booking.com/hotel/fr/au-parc-des-c...   \n",
       "689  https://www.booking.com/hotel/fr/le-schoenenbo...   \n",
       "690  https://www.booking.com/hotel/fr/gite-au-vigne...   \n",
       "691  https://www.booking.com/hotel/fr/la-maison-jau...   \n",
       "692  https://www.booking.com/hotel/fr/les-bords-de-...   \n",
       "693  https://www.booking.com/hotel/fr/meuble-mathil...   \n",
       "694  https://www.booking.com/hotel/fr/gites-weyer-n...   \n",
       "695  https://www.booking.com/hotel/fr/premiere-clas...   \n",
       "696  https://www.booking.com/hotel/fr/a-l-oriel.fr....   \n",
       "697  https://www.booking.com/hotel/fr/residence-ann...   \n",
       "698  https://www.booking.com/hotel/fr/chez-filippa....   \n",
       "699  https://www.booking.com/hotel/fr/o-p-tit-bawal...   \n",
       "\n",
       "                                           description  \\\n",
       "680  Le Domaine du Haut-Koenigsbourg est situé à Or...   \n",
       "681  Le Gîte Sonnenberg est situé à environ 9 km de...   \n",
       "682  L'établissement Gîtes Thirion est situé à Sain...   \n",
       "683  Situé à Bergheim, à 17 km de Colmar, le Gites ...   \n",
       "684  L’Hôtel De La Couronne vous accueille dans le ...   \n",
       "685  Le Gîte Saint Ludan est situé à Rombach-le-Fra...   \n",
       "686  L'établissement Gîtes Marschall Jean-Pierre es...   \n",
       "687  Offrant une vue sur son jardin, le Gîte aux de...   \n",
       "688  Installé à Kintzheim, à 200 mètres du parc de ...   \n",
       "689  Entouré de vignobles, le Best Western Hotel Le...   \n",
       "690  Situé à Triembach-au-Val, à 20 km du château d...   \n",
       "691  Bénéficiant d'une terrasse et d'une vue sur le...   \n",
       "692  Offrant une vue sur son jardin, l'établissemen...   \n",
       "693  Doté d'un jardin, le Meublé mathilde est situé...   \n",
       "694  Offrant une vue sur le jardin, le Gites-Weyer ...   \n",
       "695  Le Première Classe Colmar Nord - Houssen est s...   \n",
       "696  L'Oriel est situé en plein cœur de Riquewihr, ...   \n",
       "697  Doté d’une piscine extérieure ouverte en saiso...   \n",
       "698  Situé à Ostheim, à seulement 10 km de la Maiso...   \n",
       "699  Offrant une vue sur la cour intérieure, l'O P'...   \n",
       "\n",
       "                                               address rating  \n",
       "680  Route du Haut-Koenigsbourg, 67600 Orschwiller,...    8,5  \n",
       "681         1 route du Vin, 68770 Ammerschwihr, France    8,3  \n",
       "682     71 Route du Vin, 68590 Saint-Hippolyte, France    8,8  \n",
       "683         32 rue des romains, 68750 Bergheim, France    8,5  \n",
       "684      5 rue de la Couronne, 68340 Riquewihr, France    8,4  \n",
       "685  13 Lieu-Dit la Hingrie, 68660 Rombach-le-Franc...    8,6  \n",
       "686     16 A Rue des Tulipes, 68980 Beblenheim, France    9,1  \n",
       "687  8 Chemin de l'Église, 67220 Saint-Pierre-Bois,...    9,4  \n",
       "688         Route de Selestat, 67600 Kintzheim, France    8,3  \n",
       "689     2A, rue de la piscine, 68340 Riquewihr, France    8,7  \n",
       "690  3 Rue Saint-Gilles, 67220 Triembach-au-Val, Fr...    8,8  \n",
       "691         12 Rue du Four, 68770 Ammerschwihr, France    8,3  \n",
       "692      3, Rue De La Fecht, 68970 Illhaeusern, France    8,9  \n",
       "693       6 Rue du ChÃ¢teau, 67600 Orschwiller, France    8,7  \n",
       "694          7 Rue de la Croix, 68750 Bergheim, France    8,8  \n",
       "695  Rue Mariafeld - ZA Rosenkranz, 68125 Houssen, ...    5,2  \n",
       "696  3, Rue Des Écuries Seigneuriales, 68340 Riquew...    8,3  \n",
       "697         28 Rue Jean Macé, 68980 Beblenheim, France    8,5  \n",
       "698              9 Rue d'Epinay, 68150 Ostheim, France    9,4  \n",
       "699          7 Rue Jean Macé, 68980 Beblenheim, France    9,2  "
      ]
     },
     "execution_count": 8,
     "metadata": {},
     "output_type": "execute_result"
    }
   ],
   "source": [
    "hotel_df = pd.merge(booking_url, booking, on=\"hotel_name\", how=\"inner\")\n",
    "hotel_df.tail(20)"
   ]
  },
  {
   "cell_type": "code",
   "execution_count": 10,
   "metadata": {},
   "outputs": [],
   "source": [
    "hotel_df_copy = hotel_df.copy()"
   ]
  },
  {
   "cell_type": "code",
   "execution_count": null,
   "metadata": {},
   "outputs": [],
   "source": [
    "# Let's split the address to be able to manipulate\n",
    "hotel_df_copy[['street', 'zip_code_city', 'country']] = hotel_df_copy['address'].str.rsplit(', ', n=2, expand=True)\n",
    "hotel_df_copy[['zip_code', 'city']] = hotel_df_copy['zip_code_city'].str.extract(r'(\\d{5})\\s(.+)')\n",
    "\n",
    "hotel_df_copy['zip_code'].fillna('Inconnu', inplace=True)\n",
    "hotel_df_copy['city'].fillna('Inconnue', inplace=True)\n",
    "hotel_df_copy['country'].fillna('Inconnu', inplace=True)\n",
    "\n",
    "hotel_df_copy = hotel_df_copy.drop(columns=['zip_code_city'])"
   ]
  },
  {
   "cell_type": "code",
   "execution_count": 12,
   "metadata": {},
   "outputs": [
    {
     "data": {
      "text/html": [
       "<div>\n",
       "<style scoped>\n",
       "    .dataframe tbody tr th:only-of-type {\n",
       "        vertical-align: middle;\n",
       "    }\n",
       "\n",
       "    .dataframe tbody tr th {\n",
       "        vertical-align: top;\n",
       "    }\n",
       "\n",
       "    .dataframe thead th {\n",
       "        text-align: right;\n",
       "    }\n",
       "</style>\n",
       "<table border=\"1\" class=\"dataframe\">\n",
       "  <thead>\n",
       "    <tr style=\"text-align: right;\">\n",
       "      <th></th>\n",
       "      <th>hotel_name</th>\n",
       "      <th>hotel_url</th>\n",
       "      <th>description</th>\n",
       "      <th>address</th>\n",
       "      <th>rating</th>\n",
       "      <th>street</th>\n",
       "      <th>country</th>\n",
       "      <th>zip_code</th>\n",
       "      <th>city</th>\n",
       "    </tr>\n",
       "  </thead>\n",
       "  <tbody>\n",
       "    <tr>\n",
       "      <th>0</th>\n",
       "      <td>Le Comby - wifi, au calme</td>\n",
       "      <td>https://www.booking.com/hotel/fr/le-comby-wifi...</td>\n",
       "      <td>Offrant une vue sur la cour intérieure, Le Com...</td>\n",
       "      <td>14 Rue Comby, 31500 Toulouse, France</td>\n",
       "      <td>10</td>\n",
       "      <td>14 Rue Comby</td>\n",
       "      <td>France</td>\n",
       "      <td>31500</td>\n",
       "      <td>Toulouse</td>\n",
       "    </tr>\n",
       "    <tr>\n",
       "      <th>1</th>\n",
       "      <td>Le Pop : beau T2 entièrement rénové en hyper-c...</td>\n",
       "      <td>https://www.booking.com/hotel/fr/le-pop-beau-t...</td>\n",
       "      <td>Situé dans un quartier central de Toulouse, à ...</td>\n",
       "      <td>16 Rue Paul Vidal, 31000 Toulouse, France</td>\n",
       "      <td>1,0</td>\n",
       "      <td>16 Rue Paul Vidal</td>\n",
       "      <td>France</td>\n",
       "      <td>31000</td>\n",
       "      <td>Toulouse</td>\n",
       "    </tr>\n",
       "    <tr>\n",
       "      <th>2</th>\n",
       "      <td>Studio climatisé hyper-centre - 300m Basilique...</td>\n",
       "      <td>https://www.booking.com/hotel/fr/studio-hyper-...</td>\n",
       "      <td>Situé à Toulouse, à proximité de la station de...</td>\n",
       "      <td>28 Rue de la Chaîne, 31000 Toulouse, France</td>\n",
       "      <td>6,2</td>\n",
       "      <td>28 Rue de la Chaîne</td>\n",
       "      <td>France</td>\n",
       "      <td>31000</td>\n",
       "      <td>Toulouse</td>\n",
       "    </tr>\n",
       "    <tr>\n",
       "      <th>3</th>\n",
       "      <td>Chic et calme</td>\n",
       "      <td>https://www.booking.com/hotel/fr/chic-et-calme...</td>\n",
       "      <td>Situé à Toulouse, en Midi-Pyrénées, à proximit...</td>\n",
       "      <td>53 Rue du Faubourg Bonnefoy, 31500 Toulouse, F...</td>\n",
       "      <td>6,9</td>\n",
       "      <td>53 Rue du Faubourg Bonnefoy</td>\n",
       "      <td>France</td>\n",
       "      <td>31500</td>\n",
       "      <td>Toulouse</td>\n",
       "    </tr>\n",
       "    <tr>\n",
       "      <th>4</th>\n",
       "      <td>T3 équipé et fonctionnel 3 min du métro</td>\n",
       "      <td>https://www.booking.com/hotel/fr/t3-equipe-et-...</td>\n",
       "      <td>Situé à Toulouse, à 6,8 km de l'amphithéâtre P...</td>\n",
       "      <td>8 Rue Hubert Monloup, 31200 Toulouse, France</td>\n",
       "      <td>8,2</td>\n",
       "      <td>8 Rue Hubert Monloup</td>\n",
       "      <td>France</td>\n",
       "      <td>31200</td>\n",
       "      <td>Toulouse</td>\n",
       "    </tr>\n",
       "  </tbody>\n",
       "</table>\n",
       "</div>"
      ],
      "text/plain": [
       "                                          hotel_name  \\\n",
       "0                          Le Comby - wifi, au calme   \n",
       "1  Le Pop : beau T2 entièrement rénové en hyper-c...   \n",
       "2  Studio climatisé hyper-centre - 300m Basilique...   \n",
       "3                                      Chic et calme   \n",
       "4            T3 équipé et fonctionnel 3 min du métro   \n",
       "\n",
       "                                           hotel_url  \\\n",
       "0  https://www.booking.com/hotel/fr/le-comby-wifi...   \n",
       "1  https://www.booking.com/hotel/fr/le-pop-beau-t...   \n",
       "2  https://www.booking.com/hotel/fr/studio-hyper-...   \n",
       "3  https://www.booking.com/hotel/fr/chic-et-calme...   \n",
       "4  https://www.booking.com/hotel/fr/t3-equipe-et-...   \n",
       "\n",
       "                                         description  \\\n",
       "0  Offrant une vue sur la cour intérieure, Le Com...   \n",
       "1  Situé dans un quartier central de Toulouse, à ...   \n",
       "2  Situé à Toulouse, à proximité de la station de...   \n",
       "3  Situé à Toulouse, en Midi-Pyrénées, à proximit...   \n",
       "4  Situé à Toulouse, à 6,8 km de l'amphithéâtre P...   \n",
       "\n",
       "                                             address rating  \\\n",
       "0               14 Rue Comby, 31500 Toulouse, France     10   \n",
       "1          16 Rue Paul Vidal, 31000 Toulouse, France    1,0   \n",
       "2        28 Rue de la Chaîne, 31000 Toulouse, France    6,2   \n",
       "3  53 Rue du Faubourg Bonnefoy, 31500 Toulouse, F...    6,9   \n",
       "4       8 Rue Hubert Monloup, 31200 Toulouse, France    8,2   \n",
       "\n",
       "                        street country zip_code      city  \n",
       "0                 14 Rue Comby  France    31500  Toulouse  \n",
       "1            16 Rue Paul Vidal  France    31000  Toulouse  \n",
       "2          28 Rue de la Chaîne  France    31000  Toulouse  \n",
       "3  53 Rue du Faubourg Bonnefoy  France    31500  Toulouse  \n",
       "4         8 Rue Hubert Monloup  France    31200  Toulouse  "
      ]
     },
     "execution_count": 12,
     "metadata": {},
     "output_type": "execute_result"
    }
   ],
   "source": [
    "hotel_df_copy.head()"
   ]
  },
  {
   "cell_type": "code",
   "execution_count": 13,
   "metadata": {},
   "outputs": [],
   "source": [
    "hotel = hotel_df_copy[[\"hotel_name\",\"hotel_url\",\"address\", \"street\",\"city\",\"zip_code\",\"country\"\t,\"description\",\"rating\"]]"
   ]
  },
  {
   "cell_type": "code",
   "execution_count": 14,
   "metadata": {},
   "outputs": [
    {
     "data": {
      "text/html": [
       "<div>\n",
       "<style scoped>\n",
       "    .dataframe tbody tr th:only-of-type {\n",
       "        vertical-align: middle;\n",
       "    }\n",
       "\n",
       "    .dataframe tbody tr th {\n",
       "        vertical-align: top;\n",
       "    }\n",
       "\n",
       "    .dataframe thead th {\n",
       "        text-align: right;\n",
       "    }\n",
       "</style>\n",
       "<table border=\"1\" class=\"dataframe\">\n",
       "  <thead>\n",
       "    <tr style=\"text-align: right;\">\n",
       "      <th></th>\n",
       "      <th>hotel_name</th>\n",
       "      <th>hotel_url</th>\n",
       "      <th>address</th>\n",
       "      <th>street</th>\n",
       "      <th>city</th>\n",
       "      <th>zip_code</th>\n",
       "      <th>country</th>\n",
       "      <th>description</th>\n",
       "      <th>rating</th>\n",
       "    </tr>\n",
       "  </thead>\n",
       "  <tbody>\n",
       "    <tr>\n",
       "      <th>0</th>\n",
       "      <td>Le Comby - wifi, au calme</td>\n",
       "      <td>https://www.booking.com/hotel/fr/le-comby-wifi...</td>\n",
       "      <td>14 Rue Comby, 31500 Toulouse, France</td>\n",
       "      <td>14 Rue Comby</td>\n",
       "      <td>Toulouse</td>\n",
       "      <td>31500</td>\n",
       "      <td>France</td>\n",
       "      <td>Offrant une vue sur la cour intérieure, Le Com...</td>\n",
       "      <td>10</td>\n",
       "    </tr>\n",
       "    <tr>\n",
       "      <th>1</th>\n",
       "      <td>Le Pop : beau T2 entièrement rénové en hyper-c...</td>\n",
       "      <td>https://www.booking.com/hotel/fr/le-pop-beau-t...</td>\n",
       "      <td>16 Rue Paul Vidal, 31000 Toulouse, France</td>\n",
       "      <td>16 Rue Paul Vidal</td>\n",
       "      <td>Toulouse</td>\n",
       "      <td>31000</td>\n",
       "      <td>France</td>\n",
       "      <td>Situé dans un quartier central de Toulouse, à ...</td>\n",
       "      <td>1,0</td>\n",
       "    </tr>\n",
       "    <tr>\n",
       "      <th>2</th>\n",
       "      <td>Studio climatisé hyper-centre - 300m Basilique...</td>\n",
       "      <td>https://www.booking.com/hotel/fr/studio-hyper-...</td>\n",
       "      <td>28 Rue de la Chaîne, 31000 Toulouse, France</td>\n",
       "      <td>28 Rue de la Chaîne</td>\n",
       "      <td>Toulouse</td>\n",
       "      <td>31000</td>\n",
       "      <td>France</td>\n",
       "      <td>Situé à Toulouse, à proximité de la station de...</td>\n",
       "      <td>6,2</td>\n",
       "    </tr>\n",
       "    <tr>\n",
       "      <th>3</th>\n",
       "      <td>Chic et calme</td>\n",
       "      <td>https://www.booking.com/hotel/fr/chic-et-calme...</td>\n",
       "      <td>53 Rue du Faubourg Bonnefoy, 31500 Toulouse, F...</td>\n",
       "      <td>53 Rue du Faubourg Bonnefoy</td>\n",
       "      <td>Toulouse</td>\n",
       "      <td>31500</td>\n",
       "      <td>France</td>\n",
       "      <td>Situé à Toulouse, en Midi-Pyrénées, à proximit...</td>\n",
       "      <td>6,9</td>\n",
       "    </tr>\n",
       "    <tr>\n",
       "      <th>4</th>\n",
       "      <td>T3 équipé et fonctionnel 3 min du métro</td>\n",
       "      <td>https://www.booking.com/hotel/fr/t3-equipe-et-...</td>\n",
       "      <td>8 Rue Hubert Monloup, 31200 Toulouse, France</td>\n",
       "      <td>8 Rue Hubert Monloup</td>\n",
       "      <td>Toulouse</td>\n",
       "      <td>31200</td>\n",
       "      <td>France</td>\n",
       "      <td>Situé à Toulouse, à 6,8 km de l'amphithéâtre P...</td>\n",
       "      <td>8,2</td>\n",
       "    </tr>\n",
       "  </tbody>\n",
       "</table>\n",
       "</div>"
      ],
      "text/plain": [
       "                                          hotel_name  \\\n",
       "0                          Le Comby - wifi, au calme   \n",
       "1  Le Pop : beau T2 entièrement rénové en hyper-c...   \n",
       "2  Studio climatisé hyper-centre - 300m Basilique...   \n",
       "3                                      Chic et calme   \n",
       "4            T3 équipé et fonctionnel 3 min du métro   \n",
       "\n",
       "                                           hotel_url  \\\n",
       "0  https://www.booking.com/hotel/fr/le-comby-wifi...   \n",
       "1  https://www.booking.com/hotel/fr/le-pop-beau-t...   \n",
       "2  https://www.booking.com/hotel/fr/studio-hyper-...   \n",
       "3  https://www.booking.com/hotel/fr/chic-et-calme...   \n",
       "4  https://www.booking.com/hotel/fr/t3-equipe-et-...   \n",
       "\n",
       "                                             address  \\\n",
       "0               14 Rue Comby, 31500 Toulouse, France   \n",
       "1          16 Rue Paul Vidal, 31000 Toulouse, France   \n",
       "2        28 Rue de la Chaîne, 31000 Toulouse, France   \n",
       "3  53 Rue du Faubourg Bonnefoy, 31500 Toulouse, F...   \n",
       "4       8 Rue Hubert Monloup, 31200 Toulouse, France   \n",
       "\n",
       "                        street      city zip_code country  \\\n",
       "0                 14 Rue Comby  Toulouse    31500  France   \n",
       "1            16 Rue Paul Vidal  Toulouse    31000  France   \n",
       "2          28 Rue de la Chaîne  Toulouse    31000  France   \n",
       "3  53 Rue du Faubourg Bonnefoy  Toulouse    31500  France   \n",
       "4         8 Rue Hubert Monloup  Toulouse    31200  France   \n",
       "\n",
       "                                         description rating  \n",
       "0  Offrant une vue sur la cour intérieure, Le Com...     10  \n",
       "1  Situé dans un quartier central de Toulouse, à ...    1,0  \n",
       "2  Situé à Toulouse, à proximité de la station de...    6,2  \n",
       "3  Situé à Toulouse, en Midi-Pyrénées, à proximit...    6,9  \n",
       "4  Situé à Toulouse, à 6,8 km de l'amphithéâtre P...    8,2  "
      ]
     },
     "execution_count": 14,
     "metadata": {},
     "output_type": "execute_result"
    }
   ],
   "source": [
    "hotel.head()"
   ]
  },
  {
   "cell_type": "code",
   "execution_count": 15,
   "metadata": {},
   "outputs": [],
   "source": [
    "#hotel.to_csv('hotel_all.csv', index= False)"
   ]
  },
  {
   "cell_type": "code",
   "execution_count": null,
   "metadata": {},
   "outputs": [],
   "source": [
    "# Getting lat and lon for each hotel\n",
    "all_location_dicc = []\n",
    "\n",
    "for index, row in hotel.iterrows():\n",
    "    url = \"https://nominatim.openstreetmap.org/search\"\n",
    "\n",
    "    payload = {\n",
    "        \"street\": row['street'],\n",
    "        \"postalcode\": row['zip_code'],\n",
    "        \"city\": row['city'], \n",
    "        \"country\": \"France\",\n",
    "        \"format\": \"json\"\n",
    "    }\n",
    "    \n",
    "    location = requests.get(url, params=payload).json()\n",
    "    \n",
    "    if location:\n",
    "        keys_to_extract = [\"lat\", \"lon\"]\n",
    "        location_dic = {key : location[-1][key] for key in keys_to_extract}\n",
    "    else:\n",
    "        location_dic = {\"lat\": None, \"lon\": None}\n",
    "    \n",
    "    all_location_dicc.append(location_dic)\n",
    "    time.sleep(1)\n",
    "\n",
    "print(all_location_dicc)\n"
   ]
  },
  {
   "cell_type": "code",
   "execution_count": 24,
   "metadata": {},
   "outputs": [
    {
     "data": {
      "text/html": [
       "<div>\n",
       "<style scoped>\n",
       "    .dataframe tbody tr th:only-of-type {\n",
       "        vertical-align: middle;\n",
       "    }\n",
       "\n",
       "    .dataframe tbody tr th {\n",
       "        vertical-align: top;\n",
       "    }\n",
       "\n",
       "    .dataframe thead th {\n",
       "        text-align: right;\n",
       "    }\n",
       "</style>\n",
       "<table border=\"1\" class=\"dataframe\">\n",
       "  <thead>\n",
       "    <tr style=\"text-align: right;\">\n",
       "      <th></th>\n",
       "      <th>lat</th>\n",
       "      <th>lon</th>\n",
       "    </tr>\n",
       "  </thead>\n",
       "  <tbody>\n",
       "    <tr>\n",
       "      <th>0</th>\n",
       "      <td>43.5961952</td>\n",
       "      <td>1.4639137</td>\n",
       "    </tr>\n",
       "    <tr>\n",
       "      <th>1</th>\n",
       "      <td>43.603069</td>\n",
       "      <td>1.4482469</td>\n",
       "    </tr>\n",
       "    <tr>\n",
       "      <th>2</th>\n",
       "      <td>43.6092833</td>\n",
       "      <td>1.4391865</td>\n",
       "    </tr>\n",
       "    <tr>\n",
       "      <th>3</th>\n",
       "      <td>43.618282</td>\n",
       "      <td>1.4554745</td>\n",
       "    </tr>\n",
       "    <tr>\n",
       "      <th>4</th>\n",
       "      <td>43.6372167</td>\n",
       "      <td>1.4535825</td>\n",
       "    </tr>\n",
       "    <tr>\n",
       "      <th>...</th>\n",
       "      <td>...</td>\n",
       "      <td>...</td>\n",
       "    </tr>\n",
       "    <tr>\n",
       "      <th>695</th>\n",
       "      <td>48.1288011</td>\n",
       "      <td>7.3613709</td>\n",
       "    </tr>\n",
       "    <tr>\n",
       "      <th>696</th>\n",
       "      <td>48.1668229</td>\n",
       "      <td>7.2989367</td>\n",
       "    </tr>\n",
       "    <tr>\n",
       "      <th>697</th>\n",
       "      <td>48.1570232</td>\n",
       "      <td>7.3278183</td>\n",
       "    </tr>\n",
       "    <tr>\n",
       "      <th>698</th>\n",
       "      <td>48.1585376</td>\n",
       "      <td>7.3627945</td>\n",
       "    </tr>\n",
       "    <tr>\n",
       "      <th>699</th>\n",
       "      <td>48.1580282</td>\n",
       "      <td>7.3271059</td>\n",
       "    </tr>\n",
       "  </tbody>\n",
       "</table>\n",
       "<p>700 rows × 2 columns</p>\n",
       "</div>"
      ],
      "text/plain": [
       "            lat        lon\n",
       "0    43.5961952  1.4639137\n",
       "1     43.603069  1.4482469\n",
       "2    43.6092833  1.4391865\n",
       "3     43.618282  1.4554745\n",
       "4    43.6372167  1.4535825\n",
       "..          ...        ...\n",
       "695  48.1288011  7.3613709\n",
       "696  48.1668229  7.2989367\n",
       "697  48.1570232  7.3278183\n",
       "698  48.1585376  7.3627945\n",
       "699  48.1580282  7.3271059\n",
       "\n",
       "[700 rows x 2 columns]"
      ]
     },
     "execution_count": 24,
     "metadata": {},
     "output_type": "execute_result"
    }
   ],
   "source": [
    "loc_df = pd.DataFrame(all_location_dicc)\n",
    "loc_df"
   ]
  },
  {
   "cell_type": "code",
   "execution_count": null,
   "metadata": {},
   "outputs": [],
   "source": [
    "loc_df = pd.DataFrame(all_location_dicc)\n",
    "hotel_full = pd.concat([hotel,loc_df], axis=1)\n",
    "hotel_full.head()"
   ]
  },
  {
   "cell_type": "code",
   "execution_count": null,
   "metadata": {},
   "outputs": [],
   "source": [
    "hotel_full.tail(15)"
   ]
  },
  {
   "cell_type": "code",
   "execution_count": 31,
   "metadata": {},
   "outputs": [],
   "source": [
    "hotel_full = hotel_full[[\"hotel_name\",\"hotel_url\",\"address\", \"street\",\"city\",\"zip_code\",\"country\"\t,\"lat\",\"lon\",\"description\",\"rating\"]]"
   ]
  },
  {
   "cell_type": "code",
   "execution_count": 33,
   "metadata": {},
   "outputs": [],
   "source": [
    "#hotel_full.to_csv(\"hotel_booking.csv\")"
   ]
  },
  {
   "cell_type": "code",
   "execution_count": 51,
   "metadata": {},
   "outputs": [],
   "source": [
    "# let's take hotels froms our top cities\n",
    "selec = ['Collioure', 'Carcassonne', 'Toulouse', 'Bayeux', 'Lille']\n",
    "top_hotel = hotel_full[hotel_full['city'].isin(selec)]"
   ]
  },
  {
   "cell_type": "code",
   "execution_count": 58,
   "metadata": {},
   "outputs": [
    {
     "data": {
      "text/html": [
       "<div>\n",
       "<style scoped>\n",
       "    .dataframe tbody tr th:only-of-type {\n",
       "        vertical-align: middle;\n",
       "    }\n",
       "\n",
       "    .dataframe tbody tr th {\n",
       "        vertical-align: top;\n",
       "    }\n",
       "\n",
       "    .dataframe thead th {\n",
       "        text-align: right;\n",
       "    }\n",
       "</style>\n",
       "<table border=\"1\" class=\"dataframe\">\n",
       "  <thead>\n",
       "    <tr style=\"text-align: right;\">\n",
       "      <th></th>\n",
       "      <th>hotel_name</th>\n",
       "      <th>hotel_url</th>\n",
       "      <th>address</th>\n",
       "      <th>street</th>\n",
       "      <th>city</th>\n",
       "      <th>zip_code</th>\n",
       "      <th>country</th>\n",
       "      <th>lat</th>\n",
       "      <th>lon</th>\n",
       "      <th>description</th>\n",
       "      <th>rating</th>\n",
       "    </tr>\n",
       "  </thead>\n",
       "  <tbody>\n",
       "    <tr>\n",
       "      <th>0</th>\n",
       "      <td>Le Comby - wifi, au calme</td>\n",
       "      <td>https://www.booking.com/hotel/fr/le-comby-wifi...</td>\n",
       "      <td>14 Rue Comby, 31500 Toulouse, France</td>\n",
       "      <td>14 Rue Comby</td>\n",
       "      <td>Toulouse</td>\n",
       "      <td>31500</td>\n",
       "      <td>France</td>\n",
       "      <td>43.5961952</td>\n",
       "      <td>1.4639137</td>\n",
       "      <td>Offrant une vue sur la cour intérieure, Le Com...</td>\n",
       "      <td>10</td>\n",
       "    </tr>\n",
       "    <tr>\n",
       "      <th>1</th>\n",
       "      <td>Le Pop : beau T2 entièrement rénové en hyper-c...</td>\n",
       "      <td>https://www.booking.com/hotel/fr/le-pop-beau-t...</td>\n",
       "      <td>16 Rue Paul Vidal, 31000 Toulouse, France</td>\n",
       "      <td>16 Rue Paul Vidal</td>\n",
       "      <td>Toulouse</td>\n",
       "      <td>31000</td>\n",
       "      <td>France</td>\n",
       "      <td>43.603069</td>\n",
       "      <td>1.4482469</td>\n",
       "      <td>Situé dans un quartier central de Toulouse, à ...</td>\n",
       "      <td>1,0</td>\n",
       "    </tr>\n",
       "    <tr>\n",
       "      <th>2</th>\n",
       "      <td>Studio climatisé hyper-centre - 300m Basilique...</td>\n",
       "      <td>https://www.booking.com/hotel/fr/studio-hyper-...</td>\n",
       "      <td>28 Rue de la Chaîne, 31000 Toulouse, France</td>\n",
       "      <td>28 Rue de la Chaîne</td>\n",
       "      <td>Toulouse</td>\n",
       "      <td>31000</td>\n",
       "      <td>France</td>\n",
       "      <td>43.6092833</td>\n",
       "      <td>1.4391865</td>\n",
       "      <td>Situé à Toulouse, à proximité de la station de...</td>\n",
       "      <td>6,2</td>\n",
       "    </tr>\n",
       "    <tr>\n",
       "      <th>3</th>\n",
       "      <td>Chic et calme</td>\n",
       "      <td>https://www.booking.com/hotel/fr/chic-et-calme...</td>\n",
       "      <td>53 Rue du Faubourg Bonnefoy, 31500 Toulouse, F...</td>\n",
       "      <td>53 Rue du Faubourg Bonnefoy</td>\n",
       "      <td>Toulouse</td>\n",
       "      <td>31500</td>\n",
       "      <td>France</td>\n",
       "      <td>43.618282</td>\n",
       "      <td>1.4554745</td>\n",
       "      <td>Situé à Toulouse, en Midi-Pyrénées, à proximit...</td>\n",
       "      <td>6,9</td>\n",
       "    </tr>\n",
       "    <tr>\n",
       "      <th>4</th>\n",
       "      <td>T3 équipé et fonctionnel 3 min du métro</td>\n",
       "      <td>https://www.booking.com/hotel/fr/t3-equipe-et-...</td>\n",
       "      <td>8 Rue Hubert Monloup, 31200 Toulouse, France</td>\n",
       "      <td>8 Rue Hubert Monloup</td>\n",
       "      <td>Toulouse</td>\n",
       "      <td>31200</td>\n",
       "      <td>France</td>\n",
       "      <td>43.6372167</td>\n",
       "      <td>1.4535825</td>\n",
       "      <td>Situé à Toulouse, à 6,8 km de l'amphithéâtre P...</td>\n",
       "      <td>8,2</td>\n",
       "    </tr>\n",
       "  </tbody>\n",
       "</table>\n",
       "</div>"
      ],
      "text/plain": [
       "                                          hotel_name  \\\n",
       "0                          Le Comby - wifi, au calme   \n",
       "1  Le Pop : beau T2 entièrement rénové en hyper-c...   \n",
       "2  Studio climatisé hyper-centre - 300m Basilique...   \n",
       "3                                      Chic et calme   \n",
       "4            T3 équipé et fonctionnel 3 min du métro   \n",
       "\n",
       "                                           hotel_url  \\\n",
       "0  https://www.booking.com/hotel/fr/le-comby-wifi...   \n",
       "1  https://www.booking.com/hotel/fr/le-pop-beau-t...   \n",
       "2  https://www.booking.com/hotel/fr/studio-hyper-...   \n",
       "3  https://www.booking.com/hotel/fr/chic-et-calme...   \n",
       "4  https://www.booking.com/hotel/fr/t3-equipe-et-...   \n",
       "\n",
       "                                             address  \\\n",
       "0               14 Rue Comby, 31500 Toulouse, France   \n",
       "1          16 Rue Paul Vidal, 31000 Toulouse, France   \n",
       "2        28 Rue de la Chaîne, 31000 Toulouse, France   \n",
       "3  53 Rue du Faubourg Bonnefoy, 31500 Toulouse, F...   \n",
       "4       8 Rue Hubert Monloup, 31200 Toulouse, France   \n",
       "\n",
       "                        street      city zip_code country         lat  \\\n",
       "0                 14 Rue Comby  Toulouse    31500  France  43.5961952   \n",
       "1            16 Rue Paul Vidal  Toulouse    31000  France   43.603069   \n",
       "2          28 Rue de la Chaîne  Toulouse    31000  France  43.6092833   \n",
       "3  53 Rue du Faubourg Bonnefoy  Toulouse    31500  France   43.618282   \n",
       "4         8 Rue Hubert Monloup  Toulouse    31200  France  43.6372167   \n",
       "\n",
       "         lon                                        description rating  \n",
       "0  1.4639137  Offrant une vue sur la cour intérieure, Le Com...     10  \n",
       "1  1.4482469  Situé dans un quartier central de Toulouse, à ...    1,0  \n",
       "2  1.4391865  Situé à Toulouse, à proximité de la station de...    6,2  \n",
       "3  1.4554745  Situé à Toulouse, en Midi-Pyrénées, à proximit...    6,9  \n",
       "4  1.4535825  Situé à Toulouse, à 6,8 km de l'amphithéâtre P...    8,2  "
      ]
     },
     "execution_count": 58,
     "metadata": {},
     "output_type": "execute_result"
    }
   ],
   "source": [
    "top_hotel.head()"
   ]
  },
  {
   "cell_type": "code",
   "execution_count": 59,
   "metadata": {},
   "outputs": [],
   "source": [
    "top_hotel_copy = top_hotel.copy()"
   ]
  },
  {
   "cell_type": "code",
   "execution_count": 62,
   "metadata": {},
   "outputs": [
    {
     "name": "stderr",
     "output_type": "stream",
     "text": [
      "C:\\Users\\Malika\\AppData\\Local\\Temp\\ipykernel_17260\\351697018.py:3: SettingWithCopyWarning: \n",
      "A value is trying to be set on a copy of a slice from a DataFrame.\n",
      "Try using .loc[row_indexer,col_indexer] = value instead\n",
      "\n",
      "See the caveats in the documentation: https://pandas.pydata.org/pandas-docs/stable/user_guide/indexing.html#returning-a-view-versus-a-copy\n",
      "  top_hotel[['lat', 'lon']] = imputer.fit_transform(top_hotel[['lat', 'lon']])\n"
     ]
    }
   ],
   "source": [
    "from sklearn.impute import KNNImputer\n",
    "imputer = KNNImputer(n_neighbors=1)\n",
    "top_hotel[['lat', 'lon']] = imputer.fit_transform(top_hotel[['lat', 'lon']])"
   ]
  },
  {
   "cell_type": "code",
   "execution_count": 71,
   "metadata": {},
   "outputs": [],
   "source": [
    "top_cities = pd.read_csv(\"top_5_v2.csv\")\n",
    "top_cities.rename(columns={\"name\":\"city\"}, inplace=True)"
   ]
  },
  {
   "cell_type": "code",
   "execution_count": 104,
   "metadata": {},
   "outputs": [],
   "source": [
    "# Let's create a column id (of cities) on hotel dataset\n",
    "top_hotel_id = pd.merge(top_hotel, top_cities[['city', 'ID']], on='city', how='left')\n",
    "top_hotel_id.to_csv(\"hotel_top.csv\")"
   ]
  },
  {
   "cell_type": "code",
   "execution_count": 105,
   "metadata": {},
   "outputs": [
    {
     "data": {
      "text/html": [
       "<div>\n",
       "<style scoped>\n",
       "    .dataframe tbody tr th:only-of-type {\n",
       "        vertical-align: middle;\n",
       "    }\n",
       "\n",
       "    .dataframe tbody tr th {\n",
       "        vertical-align: top;\n",
       "    }\n",
       "\n",
       "    .dataframe thead th {\n",
       "        text-align: right;\n",
       "    }\n",
       "</style>\n",
       "<table border=\"1\" class=\"dataframe\">\n",
       "  <thead>\n",
       "    <tr style=\"text-align: right;\">\n",
       "      <th></th>\n",
       "      <th>hotel_name</th>\n",
       "      <th>hotel_url</th>\n",
       "      <th>address</th>\n",
       "      <th>street</th>\n",
       "      <th>city</th>\n",
       "      <th>zip_code</th>\n",
       "      <th>country</th>\n",
       "      <th>lat</th>\n",
       "      <th>lon</th>\n",
       "      <th>description</th>\n",
       "      <th>rating</th>\n",
       "      <th>ID</th>\n",
       "    </tr>\n",
       "  </thead>\n",
       "  <tbody>\n",
       "    <tr>\n",
       "      <th>0</th>\n",
       "      <td>Le Comby - wifi, au calme</td>\n",
       "      <td>https://www.booking.com/hotel/fr/le-comby-wifi...</td>\n",
       "      <td>14 Rue Comby, 31500 Toulouse, France</td>\n",
       "      <td>14 Rue Comby</td>\n",
       "      <td>Toulouse</td>\n",
       "      <td>31500</td>\n",
       "      <td>France</td>\n",
       "      <td>43.596195</td>\n",
       "      <td>1.463914</td>\n",
       "      <td>Offrant une vue sur la cour intérieure, Le Com...</td>\n",
       "      <td>10</td>\n",
       "      <td>31</td>\n",
       "    </tr>\n",
       "    <tr>\n",
       "      <th>1</th>\n",
       "      <td>Le Pop : beau T2 entièrement rénové en hyper-c...</td>\n",
       "      <td>https://www.booking.com/hotel/fr/le-pop-beau-t...</td>\n",
       "      <td>16 Rue Paul Vidal, 31000 Toulouse, France</td>\n",
       "      <td>16 Rue Paul Vidal</td>\n",
       "      <td>Toulouse</td>\n",
       "      <td>31000</td>\n",
       "      <td>France</td>\n",
       "      <td>43.603069</td>\n",
       "      <td>1.448247</td>\n",
       "      <td>Situé dans un quartier central de Toulouse, à ...</td>\n",
       "      <td>1,0</td>\n",
       "      <td>31</td>\n",
       "    </tr>\n",
       "    <tr>\n",
       "      <th>2</th>\n",
       "      <td>Studio climatisé hyper-centre - 300m Basilique...</td>\n",
       "      <td>https://www.booking.com/hotel/fr/studio-hyper-...</td>\n",
       "      <td>28 Rue de la Chaîne, 31000 Toulouse, France</td>\n",
       "      <td>28 Rue de la Chaîne</td>\n",
       "      <td>Toulouse</td>\n",
       "      <td>31000</td>\n",
       "      <td>France</td>\n",
       "      <td>43.609283</td>\n",
       "      <td>1.439186</td>\n",
       "      <td>Situé à Toulouse, à proximité de la station de...</td>\n",
       "      <td>6,2</td>\n",
       "      <td>31</td>\n",
       "    </tr>\n",
       "    <tr>\n",
       "      <th>3</th>\n",
       "      <td>Chic et calme</td>\n",
       "      <td>https://www.booking.com/hotel/fr/chic-et-calme...</td>\n",
       "      <td>53 Rue du Faubourg Bonnefoy, 31500 Toulouse, F...</td>\n",
       "      <td>53 Rue du Faubourg Bonnefoy</td>\n",
       "      <td>Toulouse</td>\n",
       "      <td>31500</td>\n",
       "      <td>France</td>\n",
       "      <td>43.618282</td>\n",
       "      <td>1.455475</td>\n",
       "      <td>Situé à Toulouse, en Midi-Pyrénées, à proximit...</td>\n",
       "      <td>6,9</td>\n",
       "      <td>31</td>\n",
       "    </tr>\n",
       "    <tr>\n",
       "      <th>4</th>\n",
       "      <td>T3 équipé et fonctionnel 3 min du métro</td>\n",
       "      <td>https://www.booking.com/hotel/fr/t3-equipe-et-...</td>\n",
       "      <td>8 Rue Hubert Monloup, 31200 Toulouse, France</td>\n",
       "      <td>8 Rue Hubert Monloup</td>\n",
       "      <td>Toulouse</td>\n",
       "      <td>31200</td>\n",
       "      <td>France</td>\n",
       "      <td>43.637217</td>\n",
       "      <td>1.453582</td>\n",
       "      <td>Situé à Toulouse, à 6,8 km de l'amphithéâtre P...</td>\n",
       "      <td>8,2</td>\n",
       "      <td>31</td>\n",
       "    </tr>\n",
       "  </tbody>\n",
       "</table>\n",
       "</div>"
      ],
      "text/plain": [
       "                                          hotel_name  \\\n",
       "0                          Le Comby - wifi, au calme   \n",
       "1  Le Pop : beau T2 entièrement rénové en hyper-c...   \n",
       "2  Studio climatisé hyper-centre - 300m Basilique...   \n",
       "3                                      Chic et calme   \n",
       "4            T3 équipé et fonctionnel 3 min du métro   \n",
       "\n",
       "                                           hotel_url  \\\n",
       "0  https://www.booking.com/hotel/fr/le-comby-wifi...   \n",
       "1  https://www.booking.com/hotel/fr/le-pop-beau-t...   \n",
       "2  https://www.booking.com/hotel/fr/studio-hyper-...   \n",
       "3  https://www.booking.com/hotel/fr/chic-et-calme...   \n",
       "4  https://www.booking.com/hotel/fr/t3-equipe-et-...   \n",
       "\n",
       "                                             address  \\\n",
       "0               14 Rue Comby, 31500 Toulouse, France   \n",
       "1          16 Rue Paul Vidal, 31000 Toulouse, France   \n",
       "2        28 Rue de la Chaîne, 31000 Toulouse, France   \n",
       "3  53 Rue du Faubourg Bonnefoy, 31500 Toulouse, F...   \n",
       "4       8 Rue Hubert Monloup, 31200 Toulouse, France   \n",
       "\n",
       "                        street      city zip_code country        lat  \\\n",
       "0                 14 Rue Comby  Toulouse    31500  France  43.596195   \n",
       "1            16 Rue Paul Vidal  Toulouse    31000  France  43.603069   \n",
       "2          28 Rue de la Chaîne  Toulouse    31000  France  43.609283   \n",
       "3  53 Rue du Faubourg Bonnefoy  Toulouse    31500  France  43.618282   \n",
       "4         8 Rue Hubert Monloup  Toulouse    31200  France  43.637217   \n",
       "\n",
       "        lon                                        description rating  ID  \n",
       "0  1.463914  Offrant une vue sur la cour intérieure, Le Com...     10  31  \n",
       "1  1.448247  Situé dans un quartier central de Toulouse, à ...    1,0  31  \n",
       "2  1.439186  Situé à Toulouse, à proximité de la station de...    6,2  31  \n",
       "3  1.455475  Situé à Toulouse, en Midi-Pyrénées, à proximit...    6,9  31  \n",
       "4  1.453582  Situé à Toulouse, à 6,8 km de l'amphithéâtre P...    8,2  31  "
      ]
     },
     "execution_count": 105,
     "metadata": {},
     "output_type": "execute_result"
    }
   ],
   "source": [
    "top_hotel_id.head()"
   ]
  },
  {
   "cell_type": "markdown",
   "metadata": {},
   "source": [
    "# ETL "
   ]
  },
  {
   "cell_type": "code",
   "execution_count": null,
   "metadata": {},
   "outputs": [],
   "source": [
    "ranking_by_w = pd.read_csv(\"ranking_by_weather_score_v2.csv\")\n",
    "ranking_by_w"
   ]
  },
  {
   "cell_type": "code",
   "execution_count": null,
   "metadata": {},
   "outputs": [],
   "source": [
    "top_cities = pd.read_csv(\"top_5_v2.csv\")\n",
    "top_cities.head()"
   ]
  },
  {
   "cell_type": "code",
   "execution_count": null,
   "metadata": {},
   "outputs": [],
   "source": [
    "ranking_by_w.info()"
   ]
  },
  {
   "cell_type": "code",
   "execution_count": null,
   "metadata": {},
   "outputs": [],
   "source": [
    "weather_df= pd.read_csv(\"cities_weather_v2.csv\")\n",
    "weather_df.head()"
   ]
  },
  {
   "cell_type": "code",
   "execution_count": null,
   "metadata": {},
   "outputs": [],
   "source": [
    "cities_all = pd.read_csv(\"gps_v2.csv\")\n",
    "cities_all"
   ]
  },
  {
   "cell_type": "code",
   "execution_count": null,
   "metadata": {},
   "outputs": [],
   "source": [
    "ranked_cities = weather_df.groupby('ID')['city_score'].mean().sort_values(ascending=False).reset_index()\n",
    "\n",
    "ranked_cities.head(30)"
   ]
  },
  {
   "cell_type": "code",
   "execution_count": 77,
   "metadata": {},
   "outputs": [],
   "source": [
    "from Api_key import ak, sak"
   ]
  },
  {
   "cell_type": "code",
   "execution_count": 84,
   "metadata": {},
   "outputs": [],
   "source": [
    "from Api_key import ak, sak\n",
    "\n",
    "client = bt.client(\"s3\", aws_access_key_id=ak, aws_secret_access_key = sak)\n",
    "\n",
    "#client.upload_file(\"ranking_by_weather_score_v2.csv\", \"kayak-proj\", \"cities_info.csv\")"
   ]
  },
  {
   "cell_type": "code",
   "execution_count": 85,
   "metadata": {},
   "outputs": [],
   "source": [
    "#client.upload_file(\"ranking_by_weather_score_v2.csv\", \"kayak-proj\", \"cities_by_weather.csv\")\n",
    "client.upload_file(\"hotel_booking.csv\", \"kayak-proj\", \"hotels_all_cities.csv\")\n",
    "client.upload_file(\"top_5_v2.csv\", \"kayak-proj\", \"top_cities.csv\")\n",
    "client.upload_file(\"hotel_top.csv\", \"kayak-proj\", \"hotel_top_cities.csv\")\n"
   ]
  },
  {
   "cell_type": "code",
   "execution_count": 106,
   "metadata": {},
   "outputs": [],
   "source": [
    "top_hotel_id.rename(columns={\"ID\":\"id_city\"}, inplace=True)"
   ]
  },
  {
   "cell_type": "code",
   "execution_count": 91,
   "metadata": {},
   "outputs": [
    {
     "data": {
      "text/html": [
       "<div>\n",
       "<style scoped>\n",
       "    .dataframe tbody tr th:only-of-type {\n",
       "        vertical-align: middle;\n",
       "    }\n",
       "\n",
       "    .dataframe tbody tr th {\n",
       "        vertical-align: top;\n",
       "    }\n",
       "\n",
       "    .dataframe thead th {\n",
       "        text-align: right;\n",
       "    }\n",
       "</style>\n",
       "<table border=\"1\" class=\"dataframe\">\n",
       "  <thead>\n",
       "    <tr style=\"text-align: right;\">\n",
       "      <th></th>\n",
       "      <th>hotel_name</th>\n",
       "      <th>hotel_url</th>\n",
       "      <th>address</th>\n",
       "      <th>street</th>\n",
       "      <th>city</th>\n",
       "      <th>zip_code</th>\n",
       "      <th>country</th>\n",
       "      <th>lat</th>\n",
       "      <th>lon</th>\n",
       "      <th>description</th>\n",
       "      <th>rating</th>\n",
       "      <th>id_city</th>\n",
       "    </tr>\n",
       "  </thead>\n",
       "  <tbody>\n",
       "    <tr>\n",
       "      <th>0</th>\n",
       "      <td>Le Comby - wifi, au calme</td>\n",
       "      <td>https://www.booking.com/hotel/fr/le-comby-wifi...</td>\n",
       "      <td>14 Rue Comby, 31500 Toulouse, France</td>\n",
       "      <td>14 Rue Comby</td>\n",
       "      <td>Toulouse</td>\n",
       "      <td>31500</td>\n",
       "      <td>France</td>\n",
       "      <td>43.596195</td>\n",
       "      <td>1.463914</td>\n",
       "      <td>Offrant une vue sur la cour intérieure, Le Com...</td>\n",
       "      <td>10</td>\n",
       "      <td>31</td>\n",
       "    </tr>\n",
       "    <tr>\n",
       "      <th>1</th>\n",
       "      <td>Le Pop : beau T2 entièrement rénové en hyper-c...</td>\n",
       "      <td>https://www.booking.com/hotel/fr/le-pop-beau-t...</td>\n",
       "      <td>16 Rue Paul Vidal, 31000 Toulouse, France</td>\n",
       "      <td>16 Rue Paul Vidal</td>\n",
       "      <td>Toulouse</td>\n",
       "      <td>31000</td>\n",
       "      <td>France</td>\n",
       "      <td>43.603069</td>\n",
       "      <td>1.448247</td>\n",
       "      <td>Situé dans un quartier central de Toulouse, à ...</td>\n",
       "      <td>1,0</td>\n",
       "      <td>31</td>\n",
       "    </tr>\n",
       "    <tr>\n",
       "      <th>2</th>\n",
       "      <td>Studio climatisé hyper-centre - 300m Basilique...</td>\n",
       "      <td>https://www.booking.com/hotel/fr/studio-hyper-...</td>\n",
       "      <td>28 Rue de la Chaîne, 31000 Toulouse, France</td>\n",
       "      <td>28 Rue de la Chaîne</td>\n",
       "      <td>Toulouse</td>\n",
       "      <td>31000</td>\n",
       "      <td>France</td>\n",
       "      <td>43.609283</td>\n",
       "      <td>1.439186</td>\n",
       "      <td>Situé à Toulouse, à proximité de la station de...</td>\n",
       "      <td>6,2</td>\n",
       "      <td>31</td>\n",
       "    </tr>\n",
       "    <tr>\n",
       "      <th>3</th>\n",
       "      <td>Chic et calme</td>\n",
       "      <td>https://www.booking.com/hotel/fr/chic-et-calme...</td>\n",
       "      <td>53 Rue du Faubourg Bonnefoy, 31500 Toulouse, F...</td>\n",
       "      <td>53 Rue du Faubourg Bonnefoy</td>\n",
       "      <td>Toulouse</td>\n",
       "      <td>31500</td>\n",
       "      <td>France</td>\n",
       "      <td>43.618282</td>\n",
       "      <td>1.455475</td>\n",
       "      <td>Situé à Toulouse, en Midi-Pyrénées, à proximit...</td>\n",
       "      <td>6,9</td>\n",
       "      <td>31</td>\n",
       "    </tr>\n",
       "    <tr>\n",
       "      <th>4</th>\n",
       "      <td>T3 équipé et fonctionnel 3 min du métro</td>\n",
       "      <td>https://www.booking.com/hotel/fr/t3-equipe-et-...</td>\n",
       "      <td>8 Rue Hubert Monloup, 31200 Toulouse, France</td>\n",
       "      <td>8 Rue Hubert Monloup</td>\n",
       "      <td>Toulouse</td>\n",
       "      <td>31200</td>\n",
       "      <td>France</td>\n",
       "      <td>43.637217</td>\n",
       "      <td>1.453582</td>\n",
       "      <td>Situé à Toulouse, à 6,8 km de l'amphithéâtre P...</td>\n",
       "      <td>8,2</td>\n",
       "      <td>31</td>\n",
       "    </tr>\n",
       "    <tr>\n",
       "      <th>...</th>\n",
       "      <td>...</td>\n",
       "      <td>...</td>\n",
       "      <td>...</td>\n",
       "      <td>...</td>\n",
       "      <td>...</td>\n",
       "      <td>...</td>\n",
       "      <td>...</td>\n",
       "      <td>...</td>\n",
       "      <td>...</td>\n",
       "      <td>...</td>\n",
       "      <td>...</td>\n",
       "      <td>...</td>\n",
       "    </tr>\n",
       "    <tr>\n",
       "      <th>95</th>\n",
       "      <td>La Demeure du Chevalier d'Argent- parking gratuit</td>\n",
       "      <td>https://www.booking.com/hotel/fr/la-demeure-du...</td>\n",
       "      <td>16 Rue du Plo, 11000 Carcassonne, France</td>\n",
       "      <td>16 Rue du Plo</td>\n",
       "      <td>Carcassonne</td>\n",
       "      <td>11000</td>\n",
       "      <td>France</td>\n",
       "      <td>43.205353</td>\n",
       "      <td>2.364495</td>\n",
       "      <td>Situé à Carcassonne, en Languedoc-Roussillon, ...</td>\n",
       "      <td>9,3</td>\n",
       "      <td>29</td>\n",
       "    </tr>\n",
       "    <tr>\n",
       "      <th>96</th>\n",
       "      <td>Spacieux, Climatisé, Quartier Calme, Proche Ch...</td>\n",
       "      <td>https://www.booking.com/hotel/fr/le-cocon-de-j...</td>\n",
       "      <td>25 Rue des Rames, 11000 Carcassonne, France</td>\n",
       "      <td>25 Rue des Rames</td>\n",
       "      <td>Carcassonne</td>\n",
       "      <td>11000</td>\n",
       "      <td>France</td>\n",
       "      <td>43.208216</td>\n",
       "      <td>2.349251</td>\n",
       "      <td>Situé à Carcassonne, à 50 km du château des Te...</td>\n",
       "      <td>8,2</td>\n",
       "      <td>29</td>\n",
       "    </tr>\n",
       "    <tr>\n",
       "      <th>97</th>\n",
       "      <td>Le 107 CARCA !</td>\n",
       "      <td>https://www.booking.com/hotel/fr/le-107-carca-...</td>\n",
       "      <td>107 Avenue du Général Leclerc, 11000 Carcasson...</td>\n",
       "      <td>107 Avenue du Général Leclerc</td>\n",
       "      <td>Carcassonne</td>\n",
       "      <td>11000</td>\n",
       "      <td>France</td>\n",
       "      <td>43.208655</td>\n",
       "      <td>2.370167</td>\n",
       "      <td>Offrant une vue sur la cour intérieure, Le 107...</td>\n",
       "      <td>7,6</td>\n",
       "      <td>29</td>\n",
       "    </tr>\n",
       "    <tr>\n",
       "      <th>98</th>\n",
       "      <td>Balda'Quand Médiéval</td>\n",
       "      <td>https://www.booking.com/hotel/fr/balda-quand-m...</td>\n",
       "      <td>19 Rue Courtejaire, 11000 Carcassonne, France</td>\n",
       "      <td>19 Rue Courtejaire</td>\n",
       "      <td>Carcassonne</td>\n",
       "      <td>11000</td>\n",
       "      <td>France</td>\n",
       "      <td>43.211652</td>\n",
       "      <td>2.352399</td>\n",
       "      <td>Offrant une vue sur la ville, le Balda'Quand M...</td>\n",
       "      <td>9,1</td>\n",
       "      <td>29</td>\n",
       "    </tr>\n",
       "    <tr>\n",
       "      <th>99</th>\n",
       "      <td>Les rues de la Bastide</td>\n",
       "      <td>https://www.booking.com/hotel/fr/les-rues-de-l...</td>\n",
       "      <td>37 Rue Victor Hugo, 11000 Carcassonne, France</td>\n",
       "      <td>37 Rue Victor Hugo</td>\n",
       "      <td>Carcassonne</td>\n",
       "      <td>11000</td>\n",
       "      <td>France</td>\n",
       "      <td>43.213402</td>\n",
       "      <td>2.349118</td>\n",
       "      <td>Doté d'une terrasse, l'établissement Les rues ...</td>\n",
       "      <td>8,3</td>\n",
       "      <td>29</td>\n",
       "    </tr>\n",
       "  </tbody>\n",
       "</table>\n",
       "<p>100 rows × 12 columns</p>\n",
       "</div>"
      ],
      "text/plain": [
       "                                           hotel_name  \\\n",
       "0                           Le Comby - wifi, au calme   \n",
       "1   Le Pop : beau T2 entièrement rénové en hyper-c...   \n",
       "2   Studio climatisé hyper-centre - 300m Basilique...   \n",
       "3                                       Chic et calme   \n",
       "4             T3 équipé et fonctionnel 3 min du métro   \n",
       "..                                                ...   \n",
       "95  La Demeure du Chevalier d'Argent- parking gratuit   \n",
       "96  Spacieux, Climatisé, Quartier Calme, Proche Ch...   \n",
       "97                                     Le 107 CARCA !   \n",
       "98                               Balda'Quand Médiéval   \n",
       "99                             Les rues de la Bastide   \n",
       "\n",
       "                                            hotel_url  \\\n",
       "0   https://www.booking.com/hotel/fr/le-comby-wifi...   \n",
       "1   https://www.booking.com/hotel/fr/le-pop-beau-t...   \n",
       "2   https://www.booking.com/hotel/fr/studio-hyper-...   \n",
       "3   https://www.booking.com/hotel/fr/chic-et-calme...   \n",
       "4   https://www.booking.com/hotel/fr/t3-equipe-et-...   \n",
       "..                                                ...   \n",
       "95  https://www.booking.com/hotel/fr/la-demeure-du...   \n",
       "96  https://www.booking.com/hotel/fr/le-cocon-de-j...   \n",
       "97  https://www.booking.com/hotel/fr/le-107-carca-...   \n",
       "98  https://www.booking.com/hotel/fr/balda-quand-m...   \n",
       "99  https://www.booking.com/hotel/fr/les-rues-de-l...   \n",
       "\n",
       "                                              address  \\\n",
       "0                14 Rue Comby, 31500 Toulouse, France   \n",
       "1           16 Rue Paul Vidal, 31000 Toulouse, France   \n",
       "2         28 Rue de la Chaîne, 31000 Toulouse, France   \n",
       "3   53 Rue du Faubourg Bonnefoy, 31500 Toulouse, F...   \n",
       "4        8 Rue Hubert Monloup, 31200 Toulouse, France   \n",
       "..                                                ...   \n",
       "95           16 Rue du Plo, 11000 Carcassonne, France   \n",
       "96        25 Rue des Rames, 11000 Carcassonne, France   \n",
       "97  107 Avenue du Général Leclerc, 11000 Carcasson...   \n",
       "98      19 Rue Courtejaire, 11000 Carcassonne, France   \n",
       "99      37 Rue Victor Hugo, 11000 Carcassonne, France   \n",
       "\n",
       "                           street         city zip_code country        lat  \\\n",
       "0                    14 Rue Comby     Toulouse    31500  France  43.596195   \n",
       "1               16 Rue Paul Vidal     Toulouse    31000  France  43.603069   \n",
       "2             28 Rue de la Chaîne     Toulouse    31000  France  43.609283   \n",
       "3     53 Rue du Faubourg Bonnefoy     Toulouse    31500  France  43.618282   \n",
       "4            8 Rue Hubert Monloup     Toulouse    31200  France  43.637217   \n",
       "..                            ...          ...      ...     ...        ...   \n",
       "95                  16 Rue du Plo  Carcassonne    11000  France  43.205353   \n",
       "96               25 Rue des Rames  Carcassonne    11000  France  43.208216   \n",
       "97  107 Avenue du Général Leclerc  Carcassonne    11000  France  43.208655   \n",
       "98             19 Rue Courtejaire  Carcassonne    11000  France  43.211652   \n",
       "99             37 Rue Victor Hugo  Carcassonne    11000  France  43.213402   \n",
       "\n",
       "         lon                                        description rating  \\\n",
       "0   1.463914  Offrant une vue sur la cour intérieure, Le Com...     10   \n",
       "1   1.448247  Situé dans un quartier central de Toulouse, à ...    1,0   \n",
       "2   1.439186  Situé à Toulouse, à proximité de la station de...    6,2   \n",
       "3   1.455475  Situé à Toulouse, en Midi-Pyrénées, à proximit...    6,9   \n",
       "4   1.453582  Situé à Toulouse, à 6,8 km de l'amphithéâtre P...    8,2   \n",
       "..       ...                                                ...    ...   \n",
       "95  2.364495  Situé à Carcassonne, en Languedoc-Roussillon, ...    9,3   \n",
       "96  2.349251  Situé à Carcassonne, à 50 km du château des Te...    8,2   \n",
       "97  2.370167  Offrant une vue sur la cour intérieure, Le 107...    7,6   \n",
       "98  2.352399  Offrant une vue sur la ville, le Balda'Quand M...    9,1   \n",
       "99  2.349118  Doté d'une terrasse, l'établissement Les rues ...    8,3   \n",
       "\n",
       "    id_city  \n",
       "0        31  \n",
       "1        31  \n",
       "2        31  \n",
       "3        31  \n",
       "4        31  \n",
       "..      ...  \n",
       "95       29  \n",
       "96       29  \n",
       "97       29  \n",
       "98       29  \n",
       "99       29  \n",
       "\n",
       "[100 rows x 12 columns]"
      ]
     },
     "execution_count": 91,
     "metadata": {},
     "output_type": "execute_result"
    }
   ],
   "source": [
    "top_hotel_id"
   ]
  },
  {
   "cell_type": "code",
   "execution_count": 107,
   "metadata": {},
   "outputs": [],
   "source": [
    "top_hotel_id.insert(0, 'ID', range(1, len(top_hotel_id) + 1))"
   ]
  },
  {
   "cell_type": "code",
   "execution_count": 110,
   "metadata": {},
   "outputs": [
    {
     "data": {
      "text/html": [
       "<div>\n",
       "<style scoped>\n",
       "    .dataframe tbody tr th:only-of-type {\n",
       "        vertical-align: middle;\n",
       "    }\n",
       "\n",
       "    .dataframe tbody tr th {\n",
       "        vertical-align: top;\n",
       "    }\n",
       "\n",
       "    .dataframe thead th {\n",
       "        text-align: right;\n",
       "    }\n",
       "</style>\n",
       "<table border=\"1\" class=\"dataframe\">\n",
       "  <thead>\n",
       "    <tr style=\"text-align: right;\">\n",
       "      <th></th>\n",
       "      <th>ID</th>\n",
       "      <th>hotel_name</th>\n",
       "      <th>hotel_url</th>\n",
       "      <th>address</th>\n",
       "      <th>street</th>\n",
       "      <th>city</th>\n",
       "      <th>zip_code</th>\n",
       "      <th>country</th>\n",
       "      <th>lat</th>\n",
       "      <th>lon</th>\n",
       "      <th>description</th>\n",
       "      <th>rating</th>\n",
       "      <th>id_city</th>\n",
       "    </tr>\n",
       "  </thead>\n",
       "  <tbody>\n",
       "    <tr>\n",
       "      <th>0</th>\n",
       "      <td>1</td>\n",
       "      <td>Le Comby - wifi, au calme</td>\n",
       "      <td>https://www.booking.com/hotel/fr/le-comby-wifi...</td>\n",
       "      <td>14 Rue Comby, 31500 Toulouse, France</td>\n",
       "      <td>14 Rue Comby</td>\n",
       "      <td>Toulouse</td>\n",
       "      <td>31500</td>\n",
       "      <td>France</td>\n",
       "      <td>43.596195</td>\n",
       "      <td>1.463914</td>\n",
       "      <td>Offrant une vue sur la cour intérieure, Le Com...</td>\n",
       "      <td>10.0</td>\n",
       "      <td>31</td>\n",
       "    </tr>\n",
       "    <tr>\n",
       "      <th>1</th>\n",
       "      <td>2</td>\n",
       "      <td>Le Pop : beau T2 entièrement rénové en hyper-c...</td>\n",
       "      <td>https://www.booking.com/hotel/fr/le-pop-beau-t...</td>\n",
       "      <td>16 Rue Paul Vidal, 31000 Toulouse, France</td>\n",
       "      <td>16 Rue Paul Vidal</td>\n",
       "      <td>Toulouse</td>\n",
       "      <td>31000</td>\n",
       "      <td>France</td>\n",
       "      <td>43.603069</td>\n",
       "      <td>1.448247</td>\n",
       "      <td>Situé dans un quartier central de Toulouse, à ...</td>\n",
       "      <td>1.0</td>\n",
       "      <td>31</td>\n",
       "    </tr>\n",
       "    <tr>\n",
       "      <th>2</th>\n",
       "      <td>3</td>\n",
       "      <td>Studio climatisé hyper-centre - 300m Basilique...</td>\n",
       "      <td>https://www.booking.com/hotel/fr/studio-hyper-...</td>\n",
       "      <td>28 Rue de la Chaîne, 31000 Toulouse, France</td>\n",
       "      <td>28 Rue de la Chaîne</td>\n",
       "      <td>Toulouse</td>\n",
       "      <td>31000</td>\n",
       "      <td>France</td>\n",
       "      <td>43.609283</td>\n",
       "      <td>1.439186</td>\n",
       "      <td>Situé à Toulouse, à proximité de la station de...</td>\n",
       "      <td>6.2</td>\n",
       "      <td>31</td>\n",
       "    </tr>\n",
       "    <tr>\n",
       "      <th>3</th>\n",
       "      <td>4</td>\n",
       "      <td>Chic et calme</td>\n",
       "      <td>https://www.booking.com/hotel/fr/chic-et-calme...</td>\n",
       "      <td>53 Rue du Faubourg Bonnefoy, 31500 Toulouse, F...</td>\n",
       "      <td>53 Rue du Faubourg Bonnefoy</td>\n",
       "      <td>Toulouse</td>\n",
       "      <td>31500</td>\n",
       "      <td>France</td>\n",
       "      <td>43.618282</td>\n",
       "      <td>1.455475</td>\n",
       "      <td>Situé à Toulouse, en Midi-Pyrénées, à proximit...</td>\n",
       "      <td>6.9</td>\n",
       "      <td>31</td>\n",
       "    </tr>\n",
       "    <tr>\n",
       "      <th>4</th>\n",
       "      <td>5</td>\n",
       "      <td>T3 équipé et fonctionnel 3 min du métro</td>\n",
       "      <td>https://www.booking.com/hotel/fr/t3-equipe-et-...</td>\n",
       "      <td>8 Rue Hubert Monloup, 31200 Toulouse, France</td>\n",
       "      <td>8 Rue Hubert Monloup</td>\n",
       "      <td>Toulouse</td>\n",
       "      <td>31200</td>\n",
       "      <td>France</td>\n",
       "      <td>43.637217</td>\n",
       "      <td>1.453582</td>\n",
       "      <td>Situé à Toulouse, à 6,8 km de l'amphithéâtre P...</td>\n",
       "      <td>8.2</td>\n",
       "      <td>31</td>\n",
       "    </tr>\n",
       "  </tbody>\n",
       "</table>\n",
       "</div>"
      ],
      "text/plain": [
       "   ID                                         hotel_name  \\\n",
       "0   1                          Le Comby - wifi, au calme   \n",
       "1   2  Le Pop : beau T2 entièrement rénové en hyper-c...   \n",
       "2   3  Studio climatisé hyper-centre - 300m Basilique...   \n",
       "3   4                                      Chic et calme   \n",
       "4   5            T3 équipé et fonctionnel 3 min du métro   \n",
       "\n",
       "                                           hotel_url  \\\n",
       "0  https://www.booking.com/hotel/fr/le-comby-wifi...   \n",
       "1  https://www.booking.com/hotel/fr/le-pop-beau-t...   \n",
       "2  https://www.booking.com/hotel/fr/studio-hyper-...   \n",
       "3  https://www.booking.com/hotel/fr/chic-et-calme...   \n",
       "4  https://www.booking.com/hotel/fr/t3-equipe-et-...   \n",
       "\n",
       "                                             address  \\\n",
       "0               14 Rue Comby, 31500 Toulouse, France   \n",
       "1          16 Rue Paul Vidal, 31000 Toulouse, France   \n",
       "2        28 Rue de la Chaîne, 31000 Toulouse, France   \n",
       "3  53 Rue du Faubourg Bonnefoy, 31500 Toulouse, F...   \n",
       "4       8 Rue Hubert Monloup, 31200 Toulouse, France   \n",
       "\n",
       "                        street      city zip_code country        lat  \\\n",
       "0                 14 Rue Comby  Toulouse    31500  France  43.596195   \n",
       "1            16 Rue Paul Vidal  Toulouse    31000  France  43.603069   \n",
       "2          28 Rue de la Chaîne  Toulouse    31000  France  43.609283   \n",
       "3  53 Rue du Faubourg Bonnefoy  Toulouse    31500  France  43.618282   \n",
       "4         8 Rue Hubert Monloup  Toulouse    31200  France  43.637217   \n",
       "\n",
       "        lon                                        description  rating  \\\n",
       "0  1.463914  Offrant une vue sur la cour intérieure, Le Com...    10.0   \n",
       "1  1.448247  Situé dans un quartier central de Toulouse, à ...     1.0   \n",
       "2  1.439186  Situé à Toulouse, à proximité de la station de...     6.2   \n",
       "3  1.455475  Situé à Toulouse, en Midi-Pyrénées, à proximit...     6.9   \n",
       "4  1.453582  Situé à Toulouse, à 6,8 km de l'amphithéâtre P...     8.2   \n",
       "\n",
       "   id_city  \n",
       "0       31  \n",
       "1       31  \n",
       "2       31  \n",
       "3       31  \n",
       "4       31  "
      ]
     },
     "execution_count": 110,
     "metadata": {},
     "output_type": "execute_result"
    }
   ],
   "source": [
    "top_hotel_id.head()"
   ]
  },
  {
   "cell_type": "code",
   "execution_count": 111,
   "metadata": {},
   "outputs": [],
   "source": [
    "top_hotel_id.to_csv(\"hotel_top.csv\", index= False)"
   ]
  },
  {
   "cell_type": "code",
   "execution_count": 95,
   "metadata": {},
   "outputs": [
    {
     "name": "stdout",
     "output_type": "stream",
     "text": [
      "<class 'pandas.core.frame.DataFrame'>\n",
      "RangeIndex: 100 entries, 0 to 99\n",
      "Data columns (total 13 columns):\n",
      " #   Column       Non-Null Count  Dtype  \n",
      "---  ------       --------------  -----  \n",
      " 0   ID           100 non-null    int64  \n",
      " 1   hotel_name   100 non-null    object \n",
      " 2   hotel_url    100 non-null    object \n",
      " 3   address      100 non-null    object \n",
      " 4   street       100 non-null    object \n",
      " 5   city         100 non-null    object \n",
      " 6   zip_code     100 non-null    object \n",
      " 7   country      100 non-null    object \n",
      " 8   lat          100 non-null    float64\n",
      " 9   lon          100 non-null    float64\n",
      " 10  description  100 non-null    object \n",
      " 11  rating       100 non-null    object \n",
      " 12  id_city      100 non-null    int64  \n",
      "dtypes: float64(2), int64(2), object(9)\n",
      "memory usage: 10.3+ KB\n"
     ]
    }
   ],
   "source": [
    "top_hotel_id.info()"
   ]
  },
  {
   "cell_type": "code",
   "execution_count": 109,
   "metadata": {},
   "outputs": [],
   "source": [
    "top_hotel_id[\"rating\"] =top_hotel_id[\"rating\"].str.replace(',', '.').astype(float)"
   ]
  },
  {
   "cell_type": "code",
   "execution_count": 108,
   "metadata": {},
   "outputs": [],
   "source": [
    "top_hotel_id[\"rating\"] =top_hotel_id[\"rating\"].replace('Note non disponible', \"5\")"
   ]
  },
  {
   "cell_type": "markdown",
   "metadata": {},
   "source": [
    "# Maps 🌍"
   ]
  },
  {
   "cell_type": "markdown",
   "metadata": {},
   "source": [
    "## TOP HOTELS"
   ]
  },
  {
   "cell_type": "code",
   "execution_count": 113,
   "metadata": {},
   "outputs": [
    {
     "data": {
      "text/html": [
       "<div>\n",
       "<style scoped>\n",
       "    .dataframe tbody tr th:only-of-type {\n",
       "        vertical-align: middle;\n",
       "    }\n",
       "\n",
       "    .dataframe tbody tr th {\n",
       "        vertical-align: top;\n",
       "    }\n",
       "\n",
       "    .dataframe thead th {\n",
       "        text-align: right;\n",
       "    }\n",
       "</style>\n",
       "<table border=\"1\" class=\"dataframe\">\n",
       "  <thead>\n",
       "    <tr style=\"text-align: right;\">\n",
       "      <th></th>\n",
       "      <th>ID</th>\n",
       "      <th>hotel_name</th>\n",
       "      <th>hotel_url</th>\n",
       "      <th>address</th>\n",
       "      <th>street</th>\n",
       "      <th>city</th>\n",
       "      <th>zip_code</th>\n",
       "      <th>country</th>\n",
       "      <th>lat</th>\n",
       "      <th>lon</th>\n",
       "      <th>description</th>\n",
       "      <th>rating</th>\n",
       "      <th>id_city</th>\n",
       "    </tr>\n",
       "  </thead>\n",
       "  <tbody>\n",
       "    <tr>\n",
       "      <th>0</th>\n",
       "      <td>1</td>\n",
       "      <td>Le Comby - wifi, au calme</td>\n",
       "      <td>https://www.booking.com/hotel/fr/le-comby-wifi...</td>\n",
       "      <td>14 Rue Comby, 31500 Toulouse, France</td>\n",
       "      <td>14 Rue Comby</td>\n",
       "      <td>Toulouse</td>\n",
       "      <td>31500</td>\n",
       "      <td>France</td>\n",
       "      <td>43.596195</td>\n",
       "      <td>1.463914</td>\n",
       "      <td>Offrant une vue sur la cour intérieure, Le Com...</td>\n",
       "      <td>10.0</td>\n",
       "      <td>31</td>\n",
       "    </tr>\n",
       "    <tr>\n",
       "      <th>1</th>\n",
       "      <td>2</td>\n",
       "      <td>Le Pop : beau T2 entièrement rénové en hyper-c...</td>\n",
       "      <td>https://www.booking.com/hotel/fr/le-pop-beau-t...</td>\n",
       "      <td>16 Rue Paul Vidal, 31000 Toulouse, France</td>\n",
       "      <td>16 Rue Paul Vidal</td>\n",
       "      <td>Toulouse</td>\n",
       "      <td>31000</td>\n",
       "      <td>France</td>\n",
       "      <td>43.603069</td>\n",
       "      <td>1.448247</td>\n",
       "      <td>Situé dans un quartier central de Toulouse, à ...</td>\n",
       "      <td>1.0</td>\n",
       "      <td>31</td>\n",
       "    </tr>\n",
       "    <tr>\n",
       "      <th>2</th>\n",
       "      <td>3</td>\n",
       "      <td>Studio climatisé hyper-centre - 300m Basilique...</td>\n",
       "      <td>https://www.booking.com/hotel/fr/studio-hyper-...</td>\n",
       "      <td>28 Rue de la Chaîne, 31000 Toulouse, France</td>\n",
       "      <td>28 Rue de la Chaîne</td>\n",
       "      <td>Toulouse</td>\n",
       "      <td>31000</td>\n",
       "      <td>France</td>\n",
       "      <td>43.609283</td>\n",
       "      <td>1.439186</td>\n",
       "      <td>Situé à Toulouse, à proximité de la station de...</td>\n",
       "      <td>6.2</td>\n",
       "      <td>31</td>\n",
       "    </tr>\n",
       "    <tr>\n",
       "      <th>3</th>\n",
       "      <td>4</td>\n",
       "      <td>Chic et calme</td>\n",
       "      <td>https://www.booking.com/hotel/fr/chic-et-calme...</td>\n",
       "      <td>53 Rue du Faubourg Bonnefoy, 31500 Toulouse, F...</td>\n",
       "      <td>53 Rue du Faubourg Bonnefoy</td>\n",
       "      <td>Toulouse</td>\n",
       "      <td>31500</td>\n",
       "      <td>France</td>\n",
       "      <td>43.618282</td>\n",
       "      <td>1.455475</td>\n",
       "      <td>Situé à Toulouse, en Midi-Pyrénées, à proximit...</td>\n",
       "      <td>6.9</td>\n",
       "      <td>31</td>\n",
       "    </tr>\n",
       "    <tr>\n",
       "      <th>4</th>\n",
       "      <td>5</td>\n",
       "      <td>T3 équipé et fonctionnel 3 min du métro</td>\n",
       "      <td>https://www.booking.com/hotel/fr/t3-equipe-et-...</td>\n",
       "      <td>8 Rue Hubert Monloup, 31200 Toulouse, France</td>\n",
       "      <td>8 Rue Hubert Monloup</td>\n",
       "      <td>Toulouse</td>\n",
       "      <td>31200</td>\n",
       "      <td>France</td>\n",
       "      <td>43.637217</td>\n",
       "      <td>1.453582</td>\n",
       "      <td>Situé à Toulouse, à 6,8 km de l'amphithéâtre P...</td>\n",
       "      <td>8.2</td>\n",
       "      <td>31</td>\n",
       "    </tr>\n",
       "  </tbody>\n",
       "</table>\n",
       "</div>"
      ],
      "text/plain": [
       "   ID                                         hotel_name  \\\n",
       "0   1                          Le Comby - wifi, au calme   \n",
       "1   2  Le Pop : beau T2 entièrement rénové en hyper-c...   \n",
       "2   3  Studio climatisé hyper-centre - 300m Basilique...   \n",
       "3   4                                      Chic et calme   \n",
       "4   5            T3 équipé et fonctionnel 3 min du métro   \n",
       "\n",
       "                                           hotel_url  \\\n",
       "0  https://www.booking.com/hotel/fr/le-comby-wifi...   \n",
       "1  https://www.booking.com/hotel/fr/le-pop-beau-t...   \n",
       "2  https://www.booking.com/hotel/fr/studio-hyper-...   \n",
       "3  https://www.booking.com/hotel/fr/chic-et-calme...   \n",
       "4  https://www.booking.com/hotel/fr/t3-equipe-et-...   \n",
       "\n",
       "                                             address  \\\n",
       "0               14 Rue Comby, 31500 Toulouse, France   \n",
       "1          16 Rue Paul Vidal, 31000 Toulouse, France   \n",
       "2        28 Rue de la Chaîne, 31000 Toulouse, France   \n",
       "3  53 Rue du Faubourg Bonnefoy, 31500 Toulouse, F...   \n",
       "4       8 Rue Hubert Monloup, 31200 Toulouse, France   \n",
       "\n",
       "                        street      city zip_code country        lat  \\\n",
       "0                 14 Rue Comby  Toulouse    31500  France  43.596195   \n",
       "1            16 Rue Paul Vidal  Toulouse    31000  France  43.603069   \n",
       "2          28 Rue de la Chaîne  Toulouse    31000  France  43.609283   \n",
       "3  53 Rue du Faubourg Bonnefoy  Toulouse    31500  France  43.618282   \n",
       "4         8 Rue Hubert Monloup  Toulouse    31200  France  43.637217   \n",
       "\n",
       "        lon                                        description  rating  \\\n",
       "0  1.463914  Offrant une vue sur la cour intérieure, Le Com...    10.0   \n",
       "1  1.448247  Situé dans un quartier central de Toulouse, à ...     1.0   \n",
       "2  1.439186  Situé à Toulouse, à proximité de la station de...     6.2   \n",
       "3  1.455475  Situé à Toulouse, en Midi-Pyrénées, à proximit...     6.9   \n",
       "4  1.453582  Situé à Toulouse, à 6,8 km de l'amphithéâtre P...     8.2   \n",
       "\n",
       "   id_city  \n",
       "0       31  \n",
       "1       31  \n",
       "2       31  \n",
       "3       31  \n",
       "4       31  "
      ]
     },
     "execution_count": 113,
     "metadata": {},
     "output_type": "execute_result"
    }
   ],
   "source": [
    "top_hotel_id.head()"
   ]
  },
  {
   "cell_type": "code",
   "execution_count": 124,
   "metadata": {},
   "outputs": [
    {
     "data": {
      "application/vnd.plotly.v1+json": {
       "config": {
        "plotlyServerURL": "https://plot.ly"
       },
       "data": [
        {
         "customdata": [
          [
           "14 Rue Comby, 31500 Toulouse, France",
           "Toulouse",
           10
          ],
          [
           "16 Rue Paul Vidal, 31000 Toulouse, France",
           "Toulouse",
           1
          ],
          [
           "28 Rue de la Chaîne, 31000 Toulouse, France",
           "Toulouse",
           6.2
          ],
          [
           "53 Rue du Faubourg Bonnefoy, 31500 Toulouse, France",
           "Toulouse",
           6.9
          ],
          [
           "8 Rue Hubert Monloup, 31200 Toulouse, France",
           "Toulouse",
           8.2
          ],
          [
           "130 Chemin de Ginestous, 31200 Toulouse, France",
           "Toulouse",
           6.8
          ],
          [
           "2ème étage 5 Rue Docteur Paul Pujos, 31500 Toulouse, France",
           "Toulouse",
           9
          ],
          [
           "20 Rue du Printemps, 31000 Toulouse, France",
           "Toulouse",
           7.2
          ],
          [
           "Laganne, 18, 31300 Toulouse, France",
           "Toulouse",
           9
          ],
          [
           "2 Rue des Filatiers, 31000 Toulouse, France",
           "Toulouse",
           8.9
          ],
          [
           "4 Rue des Champs Elysées, 31500 Toulouse, France",
           "Toulouse",
           5.6
          ],
          [
           "334 Avenue de Grande Bretagne, 31300 Toulouse, France",
           "Toulouse",
           8.2
          ],
          [
           "8 Rue Saint-Rome, 31000 Toulouse, France",
           "Toulouse",
           7.9
          ],
          [
           "Lapujade, 55, 31200 Toulouse, France",
           "Toulouse",
           5
          ],
          [
           "1 Rue de Sébastopol, 31000 Toulouse, France",
           "Toulouse",
           8.6
          ],
          [
           "48 Avenue Léon Blum, BL n° 54, 31500 Toulouse, France",
           "Toulouse",
           7
          ],
          [
           "1 Rue de l'Homme Armé, 31000 Toulouse, France",
           "Toulouse",
           8
          ],
          [
           "15 Rue des Puits Clos, 31000 Toulouse, France",
           "Toulouse",
           6.5
          ],
          [
           "13 Rue de l'Industrie, 31000 Toulouse, France",
           "Toulouse",
           5
          ],
          [
           "13 Rue de l'Industrie, 31000 Toulouse, France",
           "Toulouse",
           5
          ],
          [
           "28, route de Port Vendres, 66190 Collioure, France",
           "Collioure",
           8
          ],
          [
           "58 Rue des Bouchers, 14400 Bayeux, France",
           "Bayeux",
           9.3
          ],
          [
           "6 rue professeur Langevin, Fives, 59000 Lille, France",
           "Lille",
           7.4
          ],
          [
           "9 rue andré derain Résidence Michelet 1 er étage, appartement de gauche, 66190 Collioure, France",
           "Collioure",
           8.7
          ],
          [
           "114 Route d'Argelès, 66190 Collioure, France",
           "Collioure",
           8.7
          ],
          [
           "B 7 Rue du Soleil, 66190 Collioure, France",
           "Collioure",
           8.1
          ],
          [
           "1 rue Julien Py résidence Aigue Marine, 66190 Collioure, France",
           "Collioure",
           10
          ],
          [
           "3 Rue du Soleil, 66190 Collioure, France",
           "Collioure",
           8.4
          ],
          [
           "Etage 1 5 Rue Rière, 66190 Collioure, France",
           "Collioure",
           9
          ],
          [
           "36 rue du soleil, 66190 Collioure, France",
           "Collioure",
           8.7
          ],
          [
           "24 Rue Romain Rolland, 66190 Collioure, France",
           "Collioure",
           9
          ],
          [
           "route nationale résidence les roches bleues, 66190 Collioure, France",
           "Collioure",
           7.5
          ],
          [
           "5 Route de Madeloc, 66190 Collioure, France",
           "Collioure",
           9.6
          ],
          [
           "Rue Jean Bart, 66190 Collioure, France",
           "Collioure",
           9.2
          ],
          [
           "Impasse Des Palmiers, 66190 Collioure, France",
           "Collioure",
           8.9
          ],
          [
           "2 Place Orphila, 66190 Collioure, France",
           "Collioure",
           9.5
          ],
          [
           "33 Route du Pla de las Fourques, 66190 Collioure, France",
           "Collioure",
           9.1
          ],
          [
           "1 Rue Nungesser et Coli, 66190 Collioure, France",
           "Collioure",
           8.4
          ],
          [
           "17 Rue Henri Martin, 66190 Collioure, France",
           "Collioure",
           10
          ],
          [
           "Rue Antonio Machado, 66190 Collioure, France",
           "Collioure",
           9
          ],
          [
           "3638 Route De Collioure, 66008 Collioure, France",
           "Collioure",
           8.2
          ],
          [
           "12 Route De Port-Vendres, 66190 Collioure, France",
           "Collioure",
           8.4
          ],
          [
           "25 Rue Saint Patrice, 14400 Bayeux, France",
           "Bayeux",
           8
          ],
          [
           "16/18 Rue Royale, 14400 Bayeux, France",
           "Bayeux",
           8.5
          ],
          [
           "145 Rue Saint-Jean, 14400 Bayeux, France",
           "Bayeux",
           9.4
          ],
          [
           "13 Rue Saint-Patrice, 14400 Bayeux, France",
           "Bayeux",
           8.4
          ],
          [
           "29 Rue Saint-Malo, 14400 Bayeux, France",
           "Bayeux",
           8.4
          ],
          [
           "Angle Du Bd du Marechal Leclerc et Route de Saint Lo, 14400 Bayeux, France",
           "Bayeux",
           7.7
          ],
          [
           "20 rue de Cremel, 14400 Bayeux, France",
           "Bayeux",
           9.1
          ],
          [
           "2 Rue des Teinturiers, 14400 Bayeux, France",
           "Bayeux",
           7.9
          ],
          [
           "1 Rue du Général de Dais, 14400 Bayeux, France",
           "Bayeux",
           7.6
          ],
          [
           "49, Rue de Bellefontaine, 14400 Bayeux, France",
           "Bayeux",
           8
          ],
          [
           "1 er niveau 1 Rue Montfiquet, 14400 Bayeux, France",
           "Bayeux",
           9.1
          ],
          [
           "10 Rue Maréchal Foch, 14400 Bayeux, France",
           "Bayeux",
           8.6
          ],
          [
           "Rue du Bienvenu, 14400 Bayeux, France",
           "Bayeux",
           5
          ],
          [
           "32 Rue Saint-Patrice, 14400 Bayeux, France",
           "Bayeux",
           8.7
          ],
          [
           "Chemin De La Cambette, 14400 Bayeux, France",
           "Bayeux",
           7.5
          ],
          [
           "25 Rue Saint-Patrice, 14400 Bayeux, France",
           "Bayeux",
           8
          ],
          [
           "2ème étage 67 Rue Saint-Martin, 14400 Bayeux, France",
           "Bayeux",
           9
          ],
          [
           "9 Rue Tardif, 14400 Bayeux, France",
           "Bayeux",
           7.7
          ],
          [
           "17 Rue de la cartoucherie, Voie communale de Damigny, 14400 Bayeux, France",
           "Bayeux",
           8.4
          ],
          [
           "44 Rue Nationale, Centre de Lille, 59000 Lille, France",
           "Lille",
           7.9
          ],
          [
           "32 Avenue du Peuple Belge, Vieux-Lille, 59800 Lille, France",
           "Lille",
           8
          ],
          [
           "10 Rue Meurein, Wazemmes, 59800 Lille, France",
           "Lille",
           7.9
          ],
          [
           "189 Rue des Postes, Wazemmes, 59000 Lille, France",
           "Lille",
           8
          ],
          [
           "83 Avenue Willy Brandt-Euralille, Centre de Lille, 59777 Lille, France",
           "Lille",
           8.1
          ],
          [
           "13 Rue d'Amiens, Centre de Lille, 59800 Lille, France",
           "Lille",
           8.7
          ],
          [
           "45 Rue de la Clef, Vieux-Lille, 59800 Lille, France",
           "Lille",
           8.8
          ],
          [
           "47 Rue d'Iéna, Wazemmes, 59000 Lille, France",
           "Lille",
           7
          ],
          [
           "89 Rue du Bois, 59800 Lille, France",
           "Lille",
           8.9
          ],
          [
           "25 Boulevard Bigo Danel RDC, porte de gauche, Wazemmes, 59000 Lille, France",
           "Lille",
           7.4
          ],
          [
           "19 rue de Prieuré, Fives, 59800 Lille, France",
           "Lille",
           6
          ],
          [
           "130 rue Nationale, Centre de Lille, 59000 Lille, France",
           "Lille",
           6.5
          ],
          [
           "10 Rue Meurein, Wazemmes, 59800 Lille, France",
           "Lille",
           8.8
          ],
          [
           "111 Rue Paul Lafargue, Loos, 59120 Lille, France",
           "Lille",
           6.2
          ],
          [
           "777 bis Pont De Flandres, Centre de Lille, 59777 Lille, France",
           "Lille",
           8.7
          ],
          [
           "16 Rue Castel, 59800 Lille, France",
           "Lille",
           6.9
          ],
          [
           "813 Avenue de Dunkerque Lomme, 59160 Lille, France",
           "Lille",
           7.3
          ],
          [
           "68 boulevard Jean Baptiste Lebas, Centre de Lille, 59000 Lille, France",
           "Lille",
           7.4
          ],
          [
           "99 Rue de Prague, 59800 Lille, France",
           "Lille",
           6.3
          ],
          [
           "58 Rue Antoine Armagnac, 11000 Carcassonne, France",
           "Carcassonne",
           6
          ],
          [
           "21 Rue de Verdun, 11000 Carcassonne, France",
           "Carcassonne",
           8
          ],
          [
           "36 Rue Trivalle, 11000 Carcassonne, France",
           "Carcassonne",
           7.5
          ],
          [
           "54 Rue Voltaire, 11000 Carcassonne, France",
           "Carcassonne",
           8.9
          ],
          [
           "38 Rue Pierre Germain, 11000 Carcassonne, France",
           "Carcassonne",
           8.1
          ],
          [
           "Etage 1 Appartement 4 5 Rue Laraignon Etage 1 Appartement 4, 11000 Carcassonne, France",
           "Carcassonne",
           8.1
          ],
          [
           "1 Avenue Arthur Mullot, 11000 Carcassonne, France",
           "Carcassonne",
           8.7
          ],
          [
           "45 rue du pont vieux, 11000 Carcassonne, France",
           "Carcassonne",
           8.6
          ],
          [
           "65 BIS ETAGE 1 65 Avenue du Général Leclerc, 11000 Carcassonne, France",
           "Carcassonne",
           6.7
          ],
          [
           "Etage 1 Appartement 3 5 Rue Laraignon Etage 1 Appartement 3, 11000 Carcassonne, France",
           "Carcassonne",
           8.8
          ],
          [
           "42 Rue de la Digue, 11000 Carcassonne, France",
           "Carcassonne",
           7.9
          ],
          [
           "Premier étage gauche; \"Canal du Midi\" 29 Rue Trivalle, 11000 Carcassonne, France",
           "Carcassonne",
           9.2
          ],
          [
           "38 Rue du Pont Vieux, 11000 Carcassonne, France",
           "Carcassonne",
           7.5
          ],
          [
           "3 Boulevard Omer Sarraut, 11000 Carcassonne, France",
           "Carcassonne",
           8.3
          ],
          [
           "100 Rue Jules Sauzède, 11000 Carcassonne, France",
           "Carcassonne",
           8.7
          ],
          [
           "16 Rue du Plo, 11000 Carcassonne, France",
           "Carcassonne",
           9.3
          ],
          [
           "25 Rue des Rames, 11000 Carcassonne, France",
           "Carcassonne",
           8.2
          ],
          [
           "107 Avenue du Général Leclerc, 11000 Carcassonne, France",
           "Carcassonne",
           7.6
          ],
          [
           "19 Rue Courtejaire, 11000 Carcassonne, France",
           "Carcassonne",
           9.1
          ],
          [
           "37 Rue Victor Hugo, 11000 Carcassonne, France",
           "Carcassonne",
           8.3
          ]
         ],
         "hovertemplate": "<b>%{hovertext}</b><br><br>rating=%{marker.color}<br>lat=%{lat}<br>lon=%{lon}<br>address=%{customdata[0]}<br>city=%{customdata[1]}<extra></extra>",
         "hovertext": [
          "Le Comby - wifi, au calme",
          "Le Pop : beau T2 entièrement rénové en hyper-centre",
          "Studio climatisé hyper-centre - 300m Basilique Saint Sernin",
          "Chic et calme",
          "T3 équipé et fonctionnel 3 min du métro",
          "Villa SESCA - Piscine grande terrasse",
          "Harmonie Bleue - central, au calme, wifi",
          "Le Printemps * Bel appartement climatisé * Hypercentre",
          "Le Tower au coeur de Toulouse avec Parking et vue",
          "Studio des Carmes",
          "Le Champs Elysées - à 2 pas de la gare",
          "Sevenline Aparthotel Purpan Toulouse",
          "Hypercentre Toulouse 6 joli appartement climatisé et équipé",
          "Faubourg - Studio Climatise proche Centre-ville",
          "The Social Hub Toulouse",
          "Facile, Lumineux, Parking, Metro, proche du Centre",
          "Le Sage",
          "Les Puits Clos : magnifique T2 sous les toits",
          "Sky View",
          "Urban Loft",
          "Residence Pierre & Vacances Les Balcons de Collioure",
          "Bel apt bien équipé avec terrasse centre ville Bayeux parking gratuit à proximité",
          "Eklo Hotels Lille",
          "Appartement T3 avec WIFI et terrasse, à 300m du centre et plage de Collioure, dans résidence calme. - FR-1-309-246",
          "Aux Vents du Sud",
          "Résidence du Soleil",
          "T2 avec Terrasse, Parking à Collioure - FR-1-309-420",
          "Ibanova Appartements",
          "Au Coeur de Collioure",
          "Maison de village à 200m de la plage à Collioure - FR-1-309-464",
          "Le Madeloc Hôtel & Spa",
          "la crique",
          "3 pièces avec piscine privative",
          "Résidence Collioure Plage",
          "Hôtel La Casa Pairal",
          "Casa Collioura & Spa",
          "Maison Nova - Boutique Hôtel & Spa",
          "À deux pas de la plage",
          "Sur les hauteurs de Collioure",
          "Le Machado",
          "Grand Hotel Du Golfe - Spa & Restaurant",
          "Hotel Le Bon Port",
          "Apt duplex ou plain pied tout confort plein centre ville Bayeux avec terrasse ou extérieur parking gratuit à proximité, proche plages du débarquement",
          "La Cour Royale",
          "Maison au calme rénovée avec jardin, parking gratuit, 5 mn à pied du centre Bayeux proche des plages du débarquement",
          "Le Clos Saint Patrice",
          "Studio au centre historique de Bayeux",
          "Campanile Bayeux",
          "Domaine de Bayeux",
          "Studio duplex",
          "Duplex atypique cosy - CENTRE HISTORIQUE BAYEUX PROCHE RESTAURANTS COMMERCES- LUMINEUX - proche plages du débarquement, Omaha Beach",
          "Château de Bellefontaine - Teritoria",
          "le Cozy Bayeusain",
          "Grand studio cosy confortable classé 3 étoiles centre Bayeux 2 mn à pied cathédrale proche plages du débarquement",
          "studio du parvis",
          "Appart’hôtel saint patrice",
          "Premiere Classe Bayeux",
          "Apt rdc \" coloniale\" centre Bayeux près plages du débarquement avec terrasse privative et cour intérieure",
          "Appartement hyper centre",
          "Hôtel Le Bayeux",
          "La Naomath - Maison d'hôtes, Hébergement insolite & Gîte",
          "Little Suite - Nathan",
          "Little Suite - Pablo",
          "JOST Hôtel Lille Centre",
          "Magnifique maison de courée renovée - Lille centre",
          "Citadines City Centre Lille",
          "OKKO Hotels Lille Centre",
          "Appartement Héloïse, le charme du Vieux-Lille",
          "Mike Hébergement",
          "Petit cocon lillois:Cheminée & jardin",
          "Bright 3-bedroom 2-bathroom flat.",
          "Treilles'Appart",
          "Nationale Appart Hotel",
          "JOST Hostel Lille Centre",
          "Havre de paix",
          "Hôtel Barrière Lille",
          "Just Cozy Chambre totalement indépendante #3",
          "Colloc 813",
          "Little Suite - Jean",
          "Apartment near train station with parking",
          "L'Armagnac",
          "Les chambres de la bastide - 203",
          "L'atypique, La Vue et le Standing du 36 ! Emplacement, clim et extérieur !",
          "Apartment Jeanne",
          "MontSéjour - Superbe Apt climatisé Mezzanine",
          "Tout confort ! Centre-ville, Climatisation, Parking, Wifi, Calme, TV",
          "Chez Pierrot - Pont-Neuf - Vue Cité Médiévale",
          "Escale entre cité et bastide Clim Wifi Smart Tv",
          "Studio et appartement à 2 pas de La Cité",
          "Tout confort ! Ville, Climatisation, Parking, Wifi, Calme, TV",
          "L'Émeraude de la Cité - Quai Bellevue - Proche Cité - Clim - Netflix",
          "A l ombre des remparts 3",
          "Rooftop N°38 - Rooms et Studios - Vue Cité Médiévale",
          "Carcassonne Bastide",
          "La Bastide de Gabin / ConciergerieDameCarcas",
          "La Demeure du Chevalier d'Argent- parking gratuit",
          "Spacieux, Climatisé, Quartier Calme, Proche Château, Le Cocon De Joy",
          "Le 107 CARCA !",
          "Balda'Quand Médiéval",
          "Les rues de la Bastide"
         ],
         "lat": [
          43.5961952,
          43.603069,
          43.6092833,
          43.618282,
          43.6372167,
          43.6414651,
          44.89159815,
          43.6138501,
          43.5977666,
          43.59807,
          43.612044,
          43.607712,
          43.60189,
          43.6205897,
          43.61006395,
          44.89159815,
          43.5946091,
          43.6022745,
          43.6050521,
          43.6050521,
          42.5243936,
          49.279229,
          44.89159815,
          44.89159815,
          42.5249355,
          42.5231763,
          44.89159815,
          42.5231763,
          44.89159815,
          42.5231763,
          42.528834450000005,
          44.89159815,
          42.5293829,
          42.5240898,
          42.5256723,
          42.5235697,
          44.89159815,
          42.5239306,
          42.5252009,
          42.5261586,
          44.89159815,
          42.5243936,
          49.2796324,
          49.2780786,
          49.2750702,
          49.2796324,
          49.2781562,
          44.89159815,
          49.2730352,
          49.2768285,
          44.89159815,
          49.2670041,
          44.89159815,
          49.2772194,
          49.2760725,
          49.2796324,
          49.268705,
          49.2796324,
          44.89159815,
          49.274216,
          44.89159815,
          44.89159815,
          44.89159815,
          44.89159815,
          44.89159815,
          44.89159815,
          44.89159815,
          44.89159815,
          44.89159815,
          50.723472,
          44.89159815,
          44.89159815,
          44.89159815,
          44.89159815,
          44.89159815,
          44.89159815,
          50.6293706,
          44.89159815,
          44.89159815,
          50.6390208,
          43.2160879,
          43.21263,
          43.2090175,
          43.2111425,
          43.2146756,
          44.89159815,
          43.2116557,
          43.2113799,
          44.89159815,
          44.89159815,
          43.2100177,
          44.89159815,
          43.2114325,
          43.2162995,
          43.2152769,
          43.2053534,
          43.208216,
          43.2086555,
          43.2116518,
          43.2134015
         ],
         "legendgroup": "",
         "lon": [
          1.4639137,
          1.4482469,
          1.4391865,
          1.4554745,
          1.4535825,
          1.4133734,
          1.5999513502846077,
          1.4453338,
          1.4365228,
          1.4442734,
          1.4572183,
          1.400228,
          1.4436042,
          1.4531172,
          1.4303813350182757,
          1.5999513502846077,
          1.4424057,
          1.4445844,
          1.4510274,
          1.4510274,
          3.092315,
          -0.7050140192857144,
          1.5999513502846077,
          1.5999513502846077,
          3.078992,
          3.0851355,
          1.5999513502846077,
          3.0851355,
          1.5999513502846077,
          3.0851355,
          3.078816503051552,
          1.5999513502846077,
          3.0766667,
          3.087457,
          3.0826554,
          3.0870988,
          1.5999513502846077,
          3.0844765,
          3.0724166,
          3.0823005,
          1.5999513502846077,
          3.092315,
          -0.7102753,
          -0.7081988,
          -0.6957827,
          -0.7102753,
          -0.7057396,
          1.5999513502846077,
          -0.6989523,
          -0.7002068,
          1.5999513502846077,
          -0.6874898,
          1.5999513502846077,
          -0.7009578,
          -0.7038312,
          -0.7102753,
          -0.7067701,
          -0.7102753,
          1.5999513502846077,
          -0.7045407,
          1.5999513502846077,
          1.5999513502846077,
          1.5999513502846077,
          1.5999513502846077,
          1.5999513502846077,
          1.5999513502846077,
          1.5999513502846077,
          1.5999513502846077,
          1.5999513502846077,
          3.142576,
          1.5999513502846077,
          1.5999513502846077,
          1.5999513502846077,
          1.5999513502846077,
          1.5999513502846077,
          1.5999513502846077,
          3.0982295,
          1.5999513502846077,
          1.5999513502846077,
          3.0800563,
          2.3510679,
          2.3537253,
          2.3619657,
          2.3508879,
          2.3581437,
          1.5999513502846077,
          2.3586668,
          2.3561497,
          1.5999513502846077,
          1.5999513502846077,
          2.355214,
          1.5999513502846077,
          2.3562067,
          2.3533338,
          2.3493028,
          2.3644953,
          2.3492512,
          2.3701669,
          2.3523989,
          2.3491178
         ],
         "marker": {
          "color": [
           10,
           1,
           6.2,
           6.9,
           8.2,
           6.8,
           9,
           7.2,
           9,
           8.9,
           5.6,
           8.2,
           7.9,
           5,
           8.6,
           7,
           8,
           6.5,
           5,
           5,
           8,
           9.3,
           7.4,
           8.7,
           8.7,
           8.1,
           10,
           8.4,
           9,
           8.7,
           9,
           7.5,
           9.6,
           9.2,
           8.9,
           9.5,
           9.1,
           8.4,
           10,
           9,
           8.2,
           8.4,
           8,
           8.5,
           9.4,
           8.4,
           8.4,
           7.7,
           9.1,
           7.9,
           7.6,
           8,
           9.1,
           8.6,
           5,
           8.7,
           7.5,
           8,
           9,
           7.7,
           8.4,
           7.9,
           8,
           7.9,
           8,
           8.1,
           8.7,
           8.8,
           7,
           8.9,
           7.4,
           6,
           6.5,
           8.8,
           6.2,
           8.7,
           6.9,
           7.3,
           7.4,
           6.3,
           6,
           8,
           7.5,
           8.9,
           8.1,
           8.1,
           8.7,
           8.6,
           6.7,
           8.8,
           7.9,
           9.2,
           7.5,
           8.3,
           8.7,
           9.3,
           8.2,
           7.6,
           9.1,
           8.3
          ],
          "coloraxis": "coloraxis",
          "size": [
           10,
           1,
           6.2,
           6.9,
           8.2,
           6.8,
           9,
           7.2,
           9,
           8.9,
           5.6,
           8.2,
           7.9,
           5,
           8.6,
           7,
           8,
           6.5,
           5,
           5,
           8,
           9.3,
           7.4,
           8.7,
           8.7,
           8.1,
           10,
           8.4,
           9,
           8.7,
           9,
           7.5,
           9.6,
           9.2,
           8.9,
           9.5,
           9.1,
           8.4,
           10,
           9,
           8.2,
           8.4,
           8,
           8.5,
           9.4,
           8.4,
           8.4,
           7.7,
           9.1,
           7.9,
           7.6,
           8,
           9.1,
           8.6,
           5,
           8.7,
           7.5,
           8,
           9,
           7.7,
           8.4,
           7.9,
           8,
           7.9,
           8,
           8.1,
           8.7,
           8.8,
           7,
           8.9,
           7.4,
           6,
           6.5,
           8.8,
           6.2,
           8.7,
           6.9,
           7.3,
           7.4,
           6.3,
           6,
           8,
           7.5,
           8.9,
           8.1,
           8.1,
           8.7,
           8.6,
           6.7,
           8.8,
           7.9,
           9.2,
           7.5,
           8.3,
           8.7,
           9.3,
           8.2,
           7.6,
           9.1,
           8.3
          ],
          "sizemode": "area",
          "sizeref": 0.025
         },
         "mode": "markers",
         "name": "",
         "showlegend": false,
         "subplot": "mapbox",
         "type": "scattermapbox"
        }
       ],
       "layout": {
        "coloraxis": {
         "colorbar": {
          "title": {
           "text": "rating"
          }
         },
         "colorscale": [
          [
           0,
           "#0d0887"
          ],
          [
           0.1111111111111111,
           "#46039f"
          ],
          [
           0.2222222222222222,
           "#7201a8"
          ],
          [
           0.3333333333333333,
           "#9c179e"
          ],
          [
           0.4444444444444444,
           "#bd3786"
          ],
          [
           0.5555555555555556,
           "#d8576b"
          ],
          [
           0.6666666666666666,
           "#ed7953"
          ],
          [
           0.7777777777777778,
           "#fb9f3a"
          ],
          [
           0.8888888888888888,
           "#fdca26"
          ],
          [
           1,
           "#f0f921"
          ]
         ]
        },
        "height": 600,
        "legend": {
         "itemsizing": "constant",
         "tracegroupgap": 0
        },
        "mapbox": {
         "center": {
          "lat": 44.89159815,
          "lon": 1.5999513502846074
         },
         "domain": {
          "x": [
           0,
           1
          ],
          "y": [
           0,
           1
          ]
         },
         "style": "carto-positron",
         "zoom": 10
        },
        "margin": {
         "t": 60
        },
        "template": {
         "data": {
          "bar": [
           {
            "error_x": {
             "color": "#2a3f5f"
            },
            "error_y": {
             "color": "#2a3f5f"
            },
            "marker": {
             "line": {
              "color": "#E5ECF6",
              "width": 0.5
             },
             "pattern": {
              "fillmode": "overlay",
              "size": 10,
              "solidity": 0.2
             }
            },
            "type": "bar"
           }
          ],
          "barpolar": [
           {
            "marker": {
             "line": {
              "color": "#E5ECF6",
              "width": 0.5
             },
             "pattern": {
              "fillmode": "overlay",
              "size": 10,
              "solidity": 0.2
             }
            },
            "type": "barpolar"
           }
          ],
          "carpet": [
           {
            "aaxis": {
             "endlinecolor": "#2a3f5f",
             "gridcolor": "white",
             "linecolor": "white",
             "minorgridcolor": "white",
             "startlinecolor": "#2a3f5f"
            },
            "baxis": {
             "endlinecolor": "#2a3f5f",
             "gridcolor": "white",
             "linecolor": "white",
             "minorgridcolor": "white",
             "startlinecolor": "#2a3f5f"
            },
            "type": "carpet"
           }
          ],
          "choropleth": [
           {
            "colorbar": {
             "outlinewidth": 0,
             "ticks": ""
            },
            "type": "choropleth"
           }
          ],
          "contour": [
           {
            "colorbar": {
             "outlinewidth": 0,
             "ticks": ""
            },
            "colorscale": [
             [
              0,
              "#0d0887"
             ],
             [
              0.1111111111111111,
              "#46039f"
             ],
             [
              0.2222222222222222,
              "#7201a8"
             ],
             [
              0.3333333333333333,
              "#9c179e"
             ],
             [
              0.4444444444444444,
              "#bd3786"
             ],
             [
              0.5555555555555556,
              "#d8576b"
             ],
             [
              0.6666666666666666,
              "#ed7953"
             ],
             [
              0.7777777777777778,
              "#fb9f3a"
             ],
             [
              0.8888888888888888,
              "#fdca26"
             ],
             [
              1,
              "#f0f921"
             ]
            ],
            "type": "contour"
           }
          ],
          "contourcarpet": [
           {
            "colorbar": {
             "outlinewidth": 0,
             "ticks": ""
            },
            "type": "contourcarpet"
           }
          ],
          "heatmap": [
           {
            "colorbar": {
             "outlinewidth": 0,
             "ticks": ""
            },
            "colorscale": [
             [
              0,
              "#0d0887"
             ],
             [
              0.1111111111111111,
              "#46039f"
             ],
             [
              0.2222222222222222,
              "#7201a8"
             ],
             [
              0.3333333333333333,
              "#9c179e"
             ],
             [
              0.4444444444444444,
              "#bd3786"
             ],
             [
              0.5555555555555556,
              "#d8576b"
             ],
             [
              0.6666666666666666,
              "#ed7953"
             ],
             [
              0.7777777777777778,
              "#fb9f3a"
             ],
             [
              0.8888888888888888,
              "#fdca26"
             ],
             [
              1,
              "#f0f921"
             ]
            ],
            "type": "heatmap"
           }
          ],
          "heatmapgl": [
           {
            "colorbar": {
             "outlinewidth": 0,
             "ticks": ""
            },
            "colorscale": [
             [
              0,
              "#0d0887"
             ],
             [
              0.1111111111111111,
              "#46039f"
             ],
             [
              0.2222222222222222,
              "#7201a8"
             ],
             [
              0.3333333333333333,
              "#9c179e"
             ],
             [
              0.4444444444444444,
              "#bd3786"
             ],
             [
              0.5555555555555556,
              "#d8576b"
             ],
             [
              0.6666666666666666,
              "#ed7953"
             ],
             [
              0.7777777777777778,
              "#fb9f3a"
             ],
             [
              0.8888888888888888,
              "#fdca26"
             ],
             [
              1,
              "#f0f921"
             ]
            ],
            "type": "heatmapgl"
           }
          ],
          "histogram": [
           {
            "marker": {
             "pattern": {
              "fillmode": "overlay",
              "size": 10,
              "solidity": 0.2
             }
            },
            "type": "histogram"
           }
          ],
          "histogram2d": [
           {
            "colorbar": {
             "outlinewidth": 0,
             "ticks": ""
            },
            "colorscale": [
             [
              0,
              "#0d0887"
             ],
             [
              0.1111111111111111,
              "#46039f"
             ],
             [
              0.2222222222222222,
              "#7201a8"
             ],
             [
              0.3333333333333333,
              "#9c179e"
             ],
             [
              0.4444444444444444,
              "#bd3786"
             ],
             [
              0.5555555555555556,
              "#d8576b"
             ],
             [
              0.6666666666666666,
              "#ed7953"
             ],
             [
              0.7777777777777778,
              "#fb9f3a"
             ],
             [
              0.8888888888888888,
              "#fdca26"
             ],
             [
              1,
              "#f0f921"
             ]
            ],
            "type": "histogram2d"
           }
          ],
          "histogram2dcontour": [
           {
            "colorbar": {
             "outlinewidth": 0,
             "ticks": ""
            },
            "colorscale": [
             [
              0,
              "#0d0887"
             ],
             [
              0.1111111111111111,
              "#46039f"
             ],
             [
              0.2222222222222222,
              "#7201a8"
             ],
             [
              0.3333333333333333,
              "#9c179e"
             ],
             [
              0.4444444444444444,
              "#bd3786"
             ],
             [
              0.5555555555555556,
              "#d8576b"
             ],
             [
              0.6666666666666666,
              "#ed7953"
             ],
             [
              0.7777777777777778,
              "#fb9f3a"
             ],
             [
              0.8888888888888888,
              "#fdca26"
             ],
             [
              1,
              "#f0f921"
             ]
            ],
            "type": "histogram2dcontour"
           }
          ],
          "mesh3d": [
           {
            "colorbar": {
             "outlinewidth": 0,
             "ticks": ""
            },
            "type": "mesh3d"
           }
          ],
          "parcoords": [
           {
            "line": {
             "colorbar": {
              "outlinewidth": 0,
              "ticks": ""
             }
            },
            "type": "parcoords"
           }
          ],
          "pie": [
           {
            "automargin": true,
            "type": "pie"
           }
          ],
          "scatter": [
           {
            "fillpattern": {
             "fillmode": "overlay",
             "size": 10,
             "solidity": 0.2
            },
            "type": "scatter"
           }
          ],
          "scatter3d": [
           {
            "line": {
             "colorbar": {
              "outlinewidth": 0,
              "ticks": ""
             }
            },
            "marker": {
             "colorbar": {
              "outlinewidth": 0,
              "ticks": ""
             }
            },
            "type": "scatter3d"
           }
          ],
          "scattercarpet": [
           {
            "marker": {
             "colorbar": {
              "outlinewidth": 0,
              "ticks": ""
             }
            },
            "type": "scattercarpet"
           }
          ],
          "scattergeo": [
           {
            "marker": {
             "colorbar": {
              "outlinewidth": 0,
              "ticks": ""
             }
            },
            "type": "scattergeo"
           }
          ],
          "scattergl": [
           {
            "marker": {
             "colorbar": {
              "outlinewidth": 0,
              "ticks": ""
             }
            },
            "type": "scattergl"
           }
          ],
          "scattermapbox": [
           {
            "marker": {
             "colorbar": {
              "outlinewidth": 0,
              "ticks": ""
             }
            },
            "type": "scattermapbox"
           }
          ],
          "scatterpolar": [
           {
            "marker": {
             "colorbar": {
              "outlinewidth": 0,
              "ticks": ""
             }
            },
            "type": "scatterpolar"
           }
          ],
          "scatterpolargl": [
           {
            "marker": {
             "colorbar": {
              "outlinewidth": 0,
              "ticks": ""
             }
            },
            "type": "scatterpolargl"
           }
          ],
          "scatterternary": [
           {
            "marker": {
             "colorbar": {
              "outlinewidth": 0,
              "ticks": ""
             }
            },
            "type": "scatterternary"
           }
          ],
          "surface": [
           {
            "colorbar": {
             "outlinewidth": 0,
             "ticks": ""
            },
            "colorscale": [
             [
              0,
              "#0d0887"
             ],
             [
              0.1111111111111111,
              "#46039f"
             ],
             [
              0.2222222222222222,
              "#7201a8"
             ],
             [
              0.3333333333333333,
              "#9c179e"
             ],
             [
              0.4444444444444444,
              "#bd3786"
             ],
             [
              0.5555555555555556,
              "#d8576b"
             ],
             [
              0.6666666666666666,
              "#ed7953"
             ],
             [
              0.7777777777777778,
              "#fb9f3a"
             ],
             [
              0.8888888888888888,
              "#fdca26"
             ],
             [
              1,
              "#f0f921"
             ]
            ],
            "type": "surface"
           }
          ],
          "table": [
           {
            "cells": {
             "fill": {
              "color": "#EBF0F8"
             },
             "line": {
              "color": "white"
             }
            },
            "header": {
             "fill": {
              "color": "#C8D4E3"
             },
             "line": {
              "color": "white"
             }
            },
            "type": "table"
           }
          ]
         },
         "layout": {
          "annotationdefaults": {
           "arrowcolor": "#2a3f5f",
           "arrowhead": 0,
           "arrowwidth": 1
          },
          "autotypenumbers": "strict",
          "coloraxis": {
           "colorbar": {
            "outlinewidth": 0,
            "ticks": ""
           }
          },
          "colorscale": {
           "diverging": [
            [
             0,
             "#8e0152"
            ],
            [
             0.1,
             "#c51b7d"
            ],
            [
             0.2,
             "#de77ae"
            ],
            [
             0.3,
             "#f1b6da"
            ],
            [
             0.4,
             "#fde0ef"
            ],
            [
             0.5,
             "#f7f7f7"
            ],
            [
             0.6,
             "#e6f5d0"
            ],
            [
             0.7,
             "#b8e186"
            ],
            [
             0.8,
             "#7fbc41"
            ],
            [
             0.9,
             "#4d9221"
            ],
            [
             1,
             "#276419"
            ]
           ],
           "sequential": [
            [
             0,
             "#0d0887"
            ],
            [
             0.1111111111111111,
             "#46039f"
            ],
            [
             0.2222222222222222,
             "#7201a8"
            ],
            [
             0.3333333333333333,
             "#9c179e"
            ],
            [
             0.4444444444444444,
             "#bd3786"
            ],
            [
             0.5555555555555556,
             "#d8576b"
            ],
            [
             0.6666666666666666,
             "#ed7953"
            ],
            [
             0.7777777777777778,
             "#fb9f3a"
            ],
            [
             0.8888888888888888,
             "#fdca26"
            ],
            [
             1,
             "#f0f921"
            ]
           ],
           "sequentialminus": [
            [
             0,
             "#0d0887"
            ],
            [
             0.1111111111111111,
             "#46039f"
            ],
            [
             0.2222222222222222,
             "#7201a8"
            ],
            [
             0.3333333333333333,
             "#9c179e"
            ],
            [
             0.4444444444444444,
             "#bd3786"
            ],
            [
             0.5555555555555556,
             "#d8576b"
            ],
            [
             0.6666666666666666,
             "#ed7953"
            ],
            [
             0.7777777777777778,
             "#fb9f3a"
            ],
            [
             0.8888888888888888,
             "#fdca26"
            ],
            [
             1,
             "#f0f921"
            ]
           ]
          },
          "colorway": [
           "#636efa",
           "#EF553B",
           "#00cc96",
           "#ab63fa",
           "#FFA15A",
           "#19d3f3",
           "#FF6692",
           "#B6E880",
           "#FF97FF",
           "#FECB52"
          ],
          "font": {
           "color": "#2a3f5f"
          },
          "geo": {
           "bgcolor": "white",
           "lakecolor": "white",
           "landcolor": "#E5ECF6",
           "showlakes": true,
           "showland": true,
           "subunitcolor": "white"
          },
          "hoverlabel": {
           "align": "left"
          },
          "hovermode": "closest",
          "mapbox": {
           "style": "light"
          },
          "paper_bgcolor": "white",
          "plot_bgcolor": "#E5ECF6",
          "polar": {
           "angularaxis": {
            "gridcolor": "white",
            "linecolor": "white",
            "ticks": ""
           },
           "bgcolor": "#E5ECF6",
           "radialaxis": {
            "gridcolor": "white",
            "linecolor": "white",
            "ticks": ""
           }
          },
          "scene": {
           "xaxis": {
            "backgroundcolor": "#E5ECF6",
            "gridcolor": "white",
            "gridwidth": 2,
            "linecolor": "white",
            "showbackground": true,
            "ticks": "",
            "zerolinecolor": "white"
           },
           "yaxis": {
            "backgroundcolor": "#E5ECF6",
            "gridcolor": "white",
            "gridwidth": 2,
            "linecolor": "white",
            "showbackground": true,
            "ticks": "",
            "zerolinecolor": "white"
           },
           "zaxis": {
            "backgroundcolor": "#E5ECF6",
            "gridcolor": "white",
            "gridwidth": 2,
            "linecolor": "white",
            "showbackground": true,
            "ticks": "",
            "zerolinecolor": "white"
           }
          },
          "shapedefaults": {
           "line": {
            "color": "#2a3f5f"
           }
          },
          "ternary": {
           "aaxis": {
            "gridcolor": "white",
            "linecolor": "white",
            "ticks": ""
           },
           "baxis": {
            "gridcolor": "white",
            "linecolor": "white",
            "ticks": ""
           },
           "bgcolor": "#E5ECF6",
           "caxis": {
            "gridcolor": "white",
            "linecolor": "white",
            "ticks": ""
           }
          },
          "title": {
           "x": 0.05
          },
          "xaxis": {
           "automargin": true,
           "gridcolor": "white",
           "linecolor": "white",
           "ticks": "",
           "title": {
            "standoff": 15
           },
           "zerolinecolor": "white",
           "zerolinewidth": 2
          },
          "yaxis": {
           "automargin": true,
           "gridcolor": "white",
           "linecolor": "white",
           "ticks": "",
           "title": {
            "standoff": 15
           },
           "zerolinecolor": "white",
           "zerolinewidth": 2
          }
         }
        },
        "title": {
         "text": "Hotel Locations"
        }
       }
      }
     },
     "metadata": {},
     "output_type": "display_data"
    }
   ],
   "source": [
    "fig = px.scatter_mapbox(\n",
    "    top_hotel_id,\n",
    "    lat=\"lat\",\n",
    "    lon=\"lon\",\n",
    "    hover_name=\"hotel_name\",\n",
    "    hover_data=[\"address\", \"city\", \"rating\"],\n",
    "    color=\"rating\",\n",
    "    size=\"rating\",\n",
    "    zoom=10,\n",
    "    height=600\n",
    ")\n",
    "\n",
    "fig.update_layout(\n",
    "    mapbox_style=\"carto-positron\",\n",
    "    mapbox_zoom=10,\n",
    "    mapbox_center={\"lat\": top_hotel_id[\"lat\"].mean(), \"lon\": top_hotel_id[\"lon\"].mean()},\n",
    "    title=\"Hotel Locations\"\n",
    ")\n",
    "\n",
    "fig.show()"
   ]
  },
  {
   "cell_type": "markdown",
   "metadata": {},
   "source": [
    "## TOP 5 cities"
   ]
  },
  {
   "cell_type": "code",
   "execution_count": 117,
   "metadata": {},
   "outputs": [
    {
     "data": {
      "application/vnd.plotly.v1+json": {
       "config": {
        "plotlyServerURL": "https://plot.ly"
       },
       "data": [
        {
         "hovertemplate": "<b>%{hovertext}</b><br><br>city=Collioure<br>city_score=%{marker.size}<br>lat=%{lat}<br>lon=%{lon}<extra></extra>",
         "hovertext": [
          "Collioure"
         ],
         "lat": [
          42.52505
         ],
         "legendgroup": "Collioure",
         "lon": [
          3.0831554
         ],
         "marker": {
          "color": "#636efa",
          "opacity": 0.7,
          "size": [
           165.2216144643105
          ],
          "sizemode": "area",
          "sizeref": 0.41305403616077624
         },
         "mode": "markers",
         "name": "Collioure",
         "showlegend": true,
         "subplot": "mapbox",
         "type": "scattermapbox"
        },
        {
         "hovertemplate": "<b>%{hovertext}</b><br><br>city=Carcassonne<br>city_score=%{marker.size}<br>lat=%{lat}<br>lon=%{lon}<extra></extra>",
         "hovertext": [
          "Carcassonne"
         ],
         "lat": [
          43.2130358
         ],
         "legendgroup": "Carcassonne",
         "lon": [
          2.3491069
         ],
         "marker": {
          "color": "#EF553B",
          "opacity": 0.7,
          "size": [
           155.4877626165926
          ],
          "sizemode": "area",
          "sizeref": 0.41305403616077624
         },
         "mode": "markers",
         "name": "Carcassonne",
         "showlegend": true,
         "subplot": "mapbox",
         "type": "scattermapbox"
        },
        {
         "hovertemplate": "<b>%{hovertext}</b><br><br>city=Toulouse<br>city_score=%{marker.size}<br>lat=%{lat}<br>lon=%{lon}<extra></extra>",
         "hovertext": [
          "Toulouse"
         ],
         "lat": [
          43.6044622
         ],
         "legendgroup": "Toulouse",
         "lon": [
          1.4442469
         ],
         "marker": {
          "color": "#00cc96",
          "opacity": 0.7,
          "size": [
           144.63486129888628
          ],
          "sizemode": "area",
          "sizeref": 0.41305403616077624
         },
         "mode": "markers",
         "name": "Toulouse",
         "showlegend": true,
         "subplot": "mapbox",
         "type": "scattermapbox"
        },
        {
         "hovertemplate": "<b>%{hovertext}</b><br><br>city=Bayeux<br>city_score=%{marker.size}<br>lat=%{lat}<br>lon=%{lon}<extra></extra>",
         "hovertext": [
          "Bayeux"
         ],
         "lat": [
          49.2764624
         ],
         "legendgroup": "Bayeux",
         "lon": [
          -0.7024738
         ],
         "marker": {
          "color": "#ab63fa",
          "opacity": 0.7,
          "size": [
           138.3423917813205
          ],
          "sizemode": "area",
          "sizeref": 0.41305403616077624
         },
         "mode": "markers",
         "name": "Bayeux",
         "showlegend": true,
         "subplot": "mapbox",
         "type": "scattermapbox"
        },
        {
         "hovertemplate": "<b>%{hovertext}</b><br><br>city=Lille<br>city_score=%{marker.size}<br>lat=%{lat}<br>lon=%{lon}<extra></extra>",
         "hovertext": [
          "Lille"
         ],
         "lat": [
          50.6365654
         ],
         "legendgroup": "Lille",
         "lon": [
          3.0635282
         ],
         "marker": {
          "color": "#FFA15A",
          "opacity": 0.7,
          "size": [
           133.2744049244056
          ],
          "sizemode": "area",
          "sizeref": 0.41305403616077624
         },
         "mode": "markers",
         "name": "Lille",
         "showlegend": true,
         "subplot": "mapbox",
         "type": "scattermapbox"
        }
       ],
       "layout": {
        "height": 600,
        "legend": {
         "itemsizing": "constant",
         "title": {
          "text": "city"
         },
         "tracegroupgap": 0
        },
        "mapbox": {
         "center": {
          "lat": 45.85111515999999,
          "lon": 1.8475127199999999
         },
         "domain": {
          "x": [
           0,
           1
          ],
          "y": [
           0,
           1
          ]
         },
         "style": "carto-positron",
         "zoom": 4
        },
        "template": {
         "data": {
          "bar": [
           {
            "error_x": {
             "color": "#2a3f5f"
            },
            "error_y": {
             "color": "#2a3f5f"
            },
            "marker": {
             "line": {
              "color": "#E5ECF6",
              "width": 0.5
             },
             "pattern": {
              "fillmode": "overlay",
              "size": 10,
              "solidity": 0.2
             }
            },
            "type": "bar"
           }
          ],
          "barpolar": [
           {
            "marker": {
             "line": {
              "color": "#E5ECF6",
              "width": 0.5
             },
             "pattern": {
              "fillmode": "overlay",
              "size": 10,
              "solidity": 0.2
             }
            },
            "type": "barpolar"
           }
          ],
          "carpet": [
           {
            "aaxis": {
             "endlinecolor": "#2a3f5f",
             "gridcolor": "white",
             "linecolor": "white",
             "minorgridcolor": "white",
             "startlinecolor": "#2a3f5f"
            },
            "baxis": {
             "endlinecolor": "#2a3f5f",
             "gridcolor": "white",
             "linecolor": "white",
             "minorgridcolor": "white",
             "startlinecolor": "#2a3f5f"
            },
            "type": "carpet"
           }
          ],
          "choropleth": [
           {
            "colorbar": {
             "outlinewidth": 0,
             "ticks": ""
            },
            "type": "choropleth"
           }
          ],
          "contour": [
           {
            "colorbar": {
             "outlinewidth": 0,
             "ticks": ""
            },
            "colorscale": [
             [
              0,
              "#0d0887"
             ],
             [
              0.1111111111111111,
              "#46039f"
             ],
             [
              0.2222222222222222,
              "#7201a8"
             ],
             [
              0.3333333333333333,
              "#9c179e"
             ],
             [
              0.4444444444444444,
              "#bd3786"
             ],
             [
              0.5555555555555556,
              "#d8576b"
             ],
             [
              0.6666666666666666,
              "#ed7953"
             ],
             [
              0.7777777777777778,
              "#fb9f3a"
             ],
             [
              0.8888888888888888,
              "#fdca26"
             ],
             [
              1,
              "#f0f921"
             ]
            ],
            "type": "contour"
           }
          ],
          "contourcarpet": [
           {
            "colorbar": {
             "outlinewidth": 0,
             "ticks": ""
            },
            "type": "contourcarpet"
           }
          ],
          "heatmap": [
           {
            "colorbar": {
             "outlinewidth": 0,
             "ticks": ""
            },
            "colorscale": [
             [
              0,
              "#0d0887"
             ],
             [
              0.1111111111111111,
              "#46039f"
             ],
             [
              0.2222222222222222,
              "#7201a8"
             ],
             [
              0.3333333333333333,
              "#9c179e"
             ],
             [
              0.4444444444444444,
              "#bd3786"
             ],
             [
              0.5555555555555556,
              "#d8576b"
             ],
             [
              0.6666666666666666,
              "#ed7953"
             ],
             [
              0.7777777777777778,
              "#fb9f3a"
             ],
             [
              0.8888888888888888,
              "#fdca26"
             ],
             [
              1,
              "#f0f921"
             ]
            ],
            "type": "heatmap"
           }
          ],
          "heatmapgl": [
           {
            "colorbar": {
             "outlinewidth": 0,
             "ticks": ""
            },
            "colorscale": [
             [
              0,
              "#0d0887"
             ],
             [
              0.1111111111111111,
              "#46039f"
             ],
             [
              0.2222222222222222,
              "#7201a8"
             ],
             [
              0.3333333333333333,
              "#9c179e"
             ],
             [
              0.4444444444444444,
              "#bd3786"
             ],
             [
              0.5555555555555556,
              "#d8576b"
             ],
             [
              0.6666666666666666,
              "#ed7953"
             ],
             [
              0.7777777777777778,
              "#fb9f3a"
             ],
             [
              0.8888888888888888,
              "#fdca26"
             ],
             [
              1,
              "#f0f921"
             ]
            ],
            "type": "heatmapgl"
           }
          ],
          "histogram": [
           {
            "marker": {
             "pattern": {
              "fillmode": "overlay",
              "size": 10,
              "solidity": 0.2
             }
            },
            "type": "histogram"
           }
          ],
          "histogram2d": [
           {
            "colorbar": {
             "outlinewidth": 0,
             "ticks": ""
            },
            "colorscale": [
             [
              0,
              "#0d0887"
             ],
             [
              0.1111111111111111,
              "#46039f"
             ],
             [
              0.2222222222222222,
              "#7201a8"
             ],
             [
              0.3333333333333333,
              "#9c179e"
             ],
             [
              0.4444444444444444,
              "#bd3786"
             ],
             [
              0.5555555555555556,
              "#d8576b"
             ],
             [
              0.6666666666666666,
              "#ed7953"
             ],
             [
              0.7777777777777778,
              "#fb9f3a"
             ],
             [
              0.8888888888888888,
              "#fdca26"
             ],
             [
              1,
              "#f0f921"
             ]
            ],
            "type": "histogram2d"
           }
          ],
          "histogram2dcontour": [
           {
            "colorbar": {
             "outlinewidth": 0,
             "ticks": ""
            },
            "colorscale": [
             [
              0,
              "#0d0887"
             ],
             [
              0.1111111111111111,
              "#46039f"
             ],
             [
              0.2222222222222222,
              "#7201a8"
             ],
             [
              0.3333333333333333,
              "#9c179e"
             ],
             [
              0.4444444444444444,
              "#bd3786"
             ],
             [
              0.5555555555555556,
              "#d8576b"
             ],
             [
              0.6666666666666666,
              "#ed7953"
             ],
             [
              0.7777777777777778,
              "#fb9f3a"
             ],
             [
              0.8888888888888888,
              "#fdca26"
             ],
             [
              1,
              "#f0f921"
             ]
            ],
            "type": "histogram2dcontour"
           }
          ],
          "mesh3d": [
           {
            "colorbar": {
             "outlinewidth": 0,
             "ticks": ""
            },
            "type": "mesh3d"
           }
          ],
          "parcoords": [
           {
            "line": {
             "colorbar": {
              "outlinewidth": 0,
              "ticks": ""
             }
            },
            "type": "parcoords"
           }
          ],
          "pie": [
           {
            "automargin": true,
            "type": "pie"
           }
          ],
          "scatter": [
           {
            "fillpattern": {
             "fillmode": "overlay",
             "size": 10,
             "solidity": 0.2
            },
            "type": "scatter"
           }
          ],
          "scatter3d": [
           {
            "line": {
             "colorbar": {
              "outlinewidth": 0,
              "ticks": ""
             }
            },
            "marker": {
             "colorbar": {
              "outlinewidth": 0,
              "ticks": ""
             }
            },
            "type": "scatter3d"
           }
          ],
          "scattercarpet": [
           {
            "marker": {
             "colorbar": {
              "outlinewidth": 0,
              "ticks": ""
             }
            },
            "type": "scattercarpet"
           }
          ],
          "scattergeo": [
           {
            "marker": {
             "colorbar": {
              "outlinewidth": 0,
              "ticks": ""
             }
            },
            "type": "scattergeo"
           }
          ],
          "scattergl": [
           {
            "marker": {
             "colorbar": {
              "outlinewidth": 0,
              "ticks": ""
             }
            },
            "type": "scattergl"
           }
          ],
          "scattermapbox": [
           {
            "marker": {
             "colorbar": {
              "outlinewidth": 0,
              "ticks": ""
             }
            },
            "type": "scattermapbox"
           }
          ],
          "scatterpolar": [
           {
            "marker": {
             "colorbar": {
              "outlinewidth": 0,
              "ticks": ""
             }
            },
            "type": "scatterpolar"
           }
          ],
          "scatterpolargl": [
           {
            "marker": {
             "colorbar": {
              "outlinewidth": 0,
              "ticks": ""
             }
            },
            "type": "scatterpolargl"
           }
          ],
          "scatterternary": [
           {
            "marker": {
             "colorbar": {
              "outlinewidth": 0,
              "ticks": ""
             }
            },
            "type": "scatterternary"
           }
          ],
          "surface": [
           {
            "colorbar": {
             "outlinewidth": 0,
             "ticks": ""
            },
            "colorscale": [
             [
              0,
              "#0d0887"
             ],
             [
              0.1111111111111111,
              "#46039f"
             ],
             [
              0.2222222222222222,
              "#7201a8"
             ],
             [
              0.3333333333333333,
              "#9c179e"
             ],
             [
              0.4444444444444444,
              "#bd3786"
             ],
             [
              0.5555555555555556,
              "#d8576b"
             ],
             [
              0.6666666666666666,
              "#ed7953"
             ],
             [
              0.7777777777777778,
              "#fb9f3a"
             ],
             [
              0.8888888888888888,
              "#fdca26"
             ],
             [
              1,
              "#f0f921"
             ]
            ],
            "type": "surface"
           }
          ],
          "table": [
           {
            "cells": {
             "fill": {
              "color": "#EBF0F8"
             },
             "line": {
              "color": "white"
             }
            },
            "header": {
             "fill": {
              "color": "#C8D4E3"
             },
             "line": {
              "color": "white"
             }
            },
            "type": "table"
           }
          ]
         },
         "layout": {
          "annotationdefaults": {
           "arrowcolor": "#2a3f5f",
           "arrowhead": 0,
           "arrowwidth": 1
          },
          "autotypenumbers": "strict",
          "coloraxis": {
           "colorbar": {
            "outlinewidth": 0,
            "ticks": ""
           }
          },
          "colorscale": {
           "diverging": [
            [
             0,
             "#8e0152"
            ],
            [
             0.1,
             "#c51b7d"
            ],
            [
             0.2,
             "#de77ae"
            ],
            [
             0.3,
             "#f1b6da"
            ],
            [
             0.4,
             "#fde0ef"
            ],
            [
             0.5,
             "#f7f7f7"
            ],
            [
             0.6,
             "#e6f5d0"
            ],
            [
             0.7,
             "#b8e186"
            ],
            [
             0.8,
             "#7fbc41"
            ],
            [
             0.9,
             "#4d9221"
            ],
            [
             1,
             "#276419"
            ]
           ],
           "sequential": [
            [
             0,
             "#0d0887"
            ],
            [
             0.1111111111111111,
             "#46039f"
            ],
            [
             0.2222222222222222,
             "#7201a8"
            ],
            [
             0.3333333333333333,
             "#9c179e"
            ],
            [
             0.4444444444444444,
             "#bd3786"
            ],
            [
             0.5555555555555556,
             "#d8576b"
            ],
            [
             0.6666666666666666,
             "#ed7953"
            ],
            [
             0.7777777777777778,
             "#fb9f3a"
            ],
            [
             0.8888888888888888,
             "#fdca26"
            ],
            [
             1,
             "#f0f921"
            ]
           ],
           "sequentialminus": [
            [
             0,
             "#0d0887"
            ],
            [
             0.1111111111111111,
             "#46039f"
            ],
            [
             0.2222222222222222,
             "#7201a8"
            ],
            [
             0.3333333333333333,
             "#9c179e"
            ],
            [
             0.4444444444444444,
             "#bd3786"
            ],
            [
             0.5555555555555556,
             "#d8576b"
            ],
            [
             0.6666666666666666,
             "#ed7953"
            ],
            [
             0.7777777777777778,
             "#fb9f3a"
            ],
            [
             0.8888888888888888,
             "#fdca26"
            ],
            [
             1,
             "#f0f921"
            ]
           ]
          },
          "colorway": [
           "#636efa",
           "#EF553B",
           "#00cc96",
           "#ab63fa",
           "#FFA15A",
           "#19d3f3",
           "#FF6692",
           "#B6E880",
           "#FF97FF",
           "#FECB52"
          ],
          "font": {
           "color": "#2a3f5f"
          },
          "geo": {
           "bgcolor": "white",
           "lakecolor": "white",
           "landcolor": "#E5ECF6",
           "showlakes": true,
           "showland": true,
           "subunitcolor": "white"
          },
          "hoverlabel": {
           "align": "left"
          },
          "hovermode": "closest",
          "mapbox": {
           "style": "light"
          },
          "paper_bgcolor": "white",
          "plot_bgcolor": "#E5ECF6",
          "polar": {
           "angularaxis": {
            "gridcolor": "white",
            "linecolor": "white",
            "ticks": ""
           },
           "bgcolor": "#E5ECF6",
           "radialaxis": {
            "gridcolor": "white",
            "linecolor": "white",
            "ticks": ""
           }
          },
          "scene": {
           "xaxis": {
            "backgroundcolor": "#E5ECF6",
            "gridcolor": "white",
            "gridwidth": 2,
            "linecolor": "white",
            "showbackground": true,
            "ticks": "",
            "zerolinecolor": "white"
           },
           "yaxis": {
            "backgroundcolor": "#E5ECF6",
            "gridcolor": "white",
            "gridwidth": 2,
            "linecolor": "white",
            "showbackground": true,
            "ticks": "",
            "zerolinecolor": "white"
           },
           "zaxis": {
            "backgroundcolor": "#E5ECF6",
            "gridcolor": "white",
            "gridwidth": 2,
            "linecolor": "white",
            "showbackground": true,
            "ticks": "",
            "zerolinecolor": "white"
           }
          },
          "shapedefaults": {
           "line": {
            "color": "#2a3f5f"
           }
          },
          "ternary": {
           "aaxis": {
            "gridcolor": "white",
            "linecolor": "white",
            "ticks": ""
           },
           "baxis": {
            "gridcolor": "white",
            "linecolor": "white",
            "ticks": ""
           },
           "bgcolor": "#E5ECF6",
           "caxis": {
            "gridcolor": "white",
            "linecolor": "white",
            "ticks": ""
           }
          },
          "title": {
           "x": 0.05
          },
          "xaxis": {
           "automargin": true,
           "gridcolor": "white",
           "linecolor": "white",
           "ticks": "",
           "title": {
            "standoff": 15
           },
           "zerolinecolor": "white",
           "zerolinewidth": 2
          },
          "yaxis": {
           "automargin": true,
           "gridcolor": "white",
           "linecolor": "white",
           "ticks": "",
           "title": {
            "standoff": 15
           },
           "zerolinecolor": "white",
           "zerolinewidth": 2
          }
         }
        },
        "title": {
         "text": "Top 5 cities"
        },
        "width": 800
       }
      }
     },
     "metadata": {},
     "output_type": "display_data"
    }
   ],
   "source": [
    "fig = px.scatter_mapbox(top_cities, \n",
    "                        lat=\"lat\", \n",
    "                        lon=\"lon\", \n",
    "                        hover_name=\"city\", \n",
    "                        zoom=4,\n",
    "                        color=\"city\",\n",
    "                        color_continuous_scale=px.colors.sequential.Rainbow,\n",
    "                        size='city_score',\n",
    "                        opacity=0.7,\n",
    "                        mapbox_style=\"carto-positron\",\n",
    "                        title=\"Top 5 cities\"\n",
    "                       )\n",
    "fig.update_layout(width=800, height=600)\n",
    "\n",
    "fig.show()"
   ]
  },
  {
   "cell_type": "code",
   "execution_count": null,
   "metadata": {},
   "outputs": [],
   "source": []
  }
 ],
 "metadata": {
  "kernelspec": {
   "display_name": "base",
   "language": "python",
   "name": "python3"
  },
  "language_info": {
   "codemirror_mode": {
    "name": "ipython",
    "version": 3
   },
   "file_extension": ".py",
   "mimetype": "text/x-python",
   "name": "python",
   "nbconvert_exporter": "python",
   "pygments_lexer": "ipython3",
   "version": "3.11.9"
  }
 },
 "nbformat": 4,
 "nbformat_minor": 2
}
